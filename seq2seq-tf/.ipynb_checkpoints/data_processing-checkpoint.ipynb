{
 "cells": [
  {
   "cell_type": "markdown",
   "id": "e1e08449",
   "metadata": {},
   "source": [
    "# Load Dataset"
   ]
  },
  {
   "cell_type": "code",
   "execution_count": 1,
   "id": "82babf08",
   "metadata": {
    "scrolled": false
   },
   "outputs": [
    {
     "name": "stderr",
     "output_type": "stream",
     "text": [
      "Found cached dataset aslg_pc12 (/Users/juicydoggo/.cache/huggingface/datasets/aslg_pc12/default/0.0.1/7ae5d117644e44ff4d2233f27f1d5df93f429efab7b2ea84828516fcbce48fb4)\n"
     ]
    },
    {
     "data": {
      "application/vnd.jupyter.widget-view+json": {
       "model_id": "5e89c3b488f94190a5ec6ac767afdd57",
       "version_major": 2,
       "version_minor": 0
      },
      "text/plain": [
       "  0%|          | 0/1 [00:00<?, ?it/s]"
      ]
     },
     "metadata": {},
     "output_type": "display_data"
    }
   ],
   "source": [
    "from datasets import load_dataset\n",
    "data=load_dataset('aslg_pc12')"
   ]
  },
  {
   "cell_type": "code",
   "execution_count": 14,
   "id": "77084e17",
   "metadata": {},
   "outputs": [
    {
     "name": "stdout",
     "output_type": "stream",
     "text": [
      "DatasetDict({\n",
      "    train: Dataset({\n",
      "        features: ['gloss', 'text'],\n",
      "        num_rows: 87710\n",
      "    })\n",
      "})\n"
     ]
    }
   ],
   "source": [
    "print(data)"
   ]
  },
  {
   "cell_type": "markdown",
   "id": "ec574988",
   "metadata": {},
   "source": [
    "### Standardize the dataset to feed into the model"
   ]
  },
  {
   "cell_type": "code",
   "execution_count": 16,
   "id": "3377796a",
   "metadata": {},
   "outputs": [
    {
     "name": "stderr",
     "output_type": "stream",
     "text": [
      "100%|██████████████████████████████████| 87710/87710 [00:08<00:00, 10262.40it/s]\n"
     ]
    }
   ],
   "source": [
    "from tqdm import tqdm\n",
    "with open ('data/aslg_pc12.txt','a') as f:\n",
    "    for i in tqdm(range(len(data['train']))):\n",
    "        try:\n",
    "            gloss=data['train'][i]['gloss']\n",
    "            gloss=gloss.replace('\\n','')\n",
    "            text=data['train'][i]['text']\n",
    "            text=text.replace('\\n','')\n",
    "            f.write(gloss+'\\t'+text+'\\n')\n",
    "        except:\n",
    "            print(i)"
   ]
  },
  {
   "cell_type": "markdown",
   "id": "fd7f6913",
   "metadata": {},
   "source": [
    "### Compute the maximum length sample of the dataset"
   ]
  },
  {
   "cell_type": "code",
   "execution_count": 20,
   "id": "e96a82f3",
   "metadata": {},
   "outputs": [
    {
     "name": "stderr",
     "output_type": "stream",
     "text": [
      "100%|██████████████████████████████████| 87710/87710 [00:08<00:00, 10063.25it/s]\n"
     ]
    }
   ],
   "source": [
    "maxi=0\n",
    "for i in tqdm(range(len(data['train']))):\n",
    "    maxi=max(maxi,len(data['train'][i]['gloss'].split(' ')),len(data['train'][i]['text'].split(' ')))"
   ]
  },
  {
   "cell_type": "code",
   "execution_count": 21,
   "id": "67b4e64d",
   "metadata": {},
   "outputs": [
    {
     "name": "stdout",
     "output_type": "stream",
     "text": [
      "59\n"
     ]
    }
   ],
   "source": [
    "print(maxi)"
   ]
  }
 ],
 "metadata": {
  "kernelspec": {
   "display_name": "Python 3 (ipykernel)",
   "language": "python",
   "name": "python3"
  },
  "language_info": {
   "codemirror_mode": {
    "name": "ipython",
    "version": 3
   },
   "file_extension": ".py",
   "mimetype": "text/x-python",
   "name": "python",
   "nbconvert_exporter": "python",
   "pygments_lexer": "ipython3",
   "version": "3.8.11"
  }
 },
 "nbformat": 4,
 "nbformat_minor": 5
}
