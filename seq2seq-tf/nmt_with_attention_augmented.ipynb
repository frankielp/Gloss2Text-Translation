{
 "cells": [
  {
   "cell_type": "markdown",
   "metadata": {
    "id": "J0Qjg6vuaHNt"
   },
   "source": [
    "# Neural machine translation with attention"
   ]
  },
  {
   "cell_type": "markdown",
   "metadata": {
    "id": "Xh8WNEwYA3BW"
   },
   "source": [
    "This implemetation demonstrates how to train a sequence-to-sequence (seq2seq) model for Gloss-to-Text English translation roughly based on [Effective Approaches to Attention-based Neural Machine Translation](https://arxiv.org/abs/1508.04025v5) (Luong et al., 2015). \n",
    "\n",
    "<table>\n",
    "<tr>\n",
    "  <td>\n",
    "   <img width=400 src=\"https://www.tensorflow.org/images/tutorials/transformer/RNN%2Battention-words-spa.png\"/>\n",
    "  </td>\n",
    "</tr>\n",
    "<tr>\n",
    "  <th colspan=1>An encoder/decoder connected by attention.</th>\n",
    "<tr>\n",
    "</table>\n",
    "\n"
   ]
  },
  {
   "cell_type": "markdown",
   "metadata": {
    "id": "yAmSR1FaqKrl"
   },
   "source": [
    "## Setup"
   ]
  },
  {
   "cell_type": "code",
   "execution_count": 1,
   "metadata": {
    "execution": {
     "iopub.execute_input": "2022-12-14T13:53:20.480963Z",
     "iopub.status.busy": "2022-12-14T13:53:20.480297Z",
     "iopub.status.idle": "2022-12-14T13:53:24.238557Z",
     "shell.execute_reply": "2022-12-14T13:53:24.237691Z"
    },
    "id": "DGFTkuRvzWqc"
   },
   "outputs": [
    {
     "name": "stdout",
     "output_type": "stream",
     "text": [
      "Requirement already satisfied: tensorflow-text>=2.10 in /Users/juicydoggo/opt/anaconda3/lib/python3.8/site-packages (2.11.0)\n",
      "Requirement already satisfied: tensorflow<2.12,>=2.11.0 in /Users/juicydoggo/opt/anaconda3/lib/python3.8/site-packages (from tensorflow-text>=2.10) (2.11.0)\n",
      "Requirement already satisfied: tensorflow-hub>=0.8.0 in /Users/juicydoggo/opt/anaconda3/lib/python3.8/site-packages (from tensorflow-text>=2.10) (0.12.0)\n",
      "Requirement already satisfied: keras<2.12,>=2.11.0 in /Users/juicydoggo/opt/anaconda3/lib/python3.8/site-packages (from tensorflow<2.12,>=2.11.0->tensorflow-text>=2.10) (2.11.0)\n",
      "Requirement already satisfied: absl-py>=1.0.0 in /Users/juicydoggo/opt/anaconda3/lib/python3.8/site-packages (from tensorflow<2.12,>=2.11.0->tensorflow-text>=2.10) (1.2.0)\n",
      "Requirement already satisfied: grpcio<2.0,>=1.24.3 in /Users/juicydoggo/opt/anaconda3/lib/python3.8/site-packages (from tensorflow<2.12,>=2.11.0->tensorflow-text>=2.10) (1.32.0)\n",
      "Requirement already satisfied: protobuf<3.20,>=3.9.2 in /Users/juicydoggo/opt/anaconda3/lib/python3.8/site-packages (from tensorflow<2.12,>=2.11.0->tensorflow-text>=2.10) (3.14.0)\n",
      "Requirement already satisfied: setuptools in /Users/juicydoggo/opt/anaconda3/lib/python3.8/site-packages (from tensorflow<2.12,>=2.11.0->tensorflow-text>=2.10) (58.0.4)\n",
      "Requirement already satisfied: libclang>=13.0.0 in /Users/juicydoggo/opt/anaconda3/lib/python3.8/site-packages (from tensorflow<2.12,>=2.11.0->tensorflow-text>=2.10) (14.0.6)\n",
      "Requirement already satisfied: typing-extensions>=3.6.6 in /Users/juicydoggo/opt/anaconda3/lib/python3.8/site-packages (from tensorflow<2.12,>=2.11.0->tensorflow-text>=2.10) (4.4.0)\n",
      "Requirement already satisfied: packaging in /Users/juicydoggo/opt/anaconda3/lib/python3.8/site-packages (from tensorflow<2.12,>=2.11.0->tensorflow-text>=2.10) (21.3)\n",
      "Requirement already satisfied: wrapt>=1.11.0 in /Users/juicydoggo/opt/anaconda3/lib/python3.8/site-packages (from tensorflow<2.12,>=2.11.0->tensorflow-text>=2.10) (1.12.1)\n",
      "Requirement already satisfied: flatbuffers>=2.0 in /Users/juicydoggo/opt/anaconda3/lib/python3.8/site-packages (from tensorflow<2.12,>=2.11.0->tensorflow-text>=2.10) (22.10.26)\n",
      "Requirement already satisfied: gast<=0.4.0,>=0.2.1 in /Users/juicydoggo/opt/anaconda3/lib/python3.8/site-packages (from tensorflow<2.12,>=2.11.0->tensorflow-text>=2.10) (0.3.3)\n",
      "Requirement already satisfied: numpy>=1.20 in /Users/juicydoggo/opt/anaconda3/lib/python3.8/site-packages (from tensorflow<2.12,>=2.11.0->tensorflow-text>=2.10) (1.21.2)\n",
      "Requirement already satisfied: tensorboard<2.12,>=2.11 in /Users/juicydoggo/opt/anaconda3/lib/python3.8/site-packages (from tensorflow<2.12,>=2.11.0->tensorflow-text>=2.10) (2.11.0)\n",
      "Requirement already satisfied: termcolor>=1.1.0 in /Users/juicydoggo/opt/anaconda3/lib/python3.8/site-packages (from tensorflow<2.12,>=2.11.0->tensorflow-text>=2.10) (1.1.0)\n",
      "Requirement already satisfied: tensorflow-estimator<2.12,>=2.11.0 in /Users/juicydoggo/opt/anaconda3/lib/python3.8/site-packages (from tensorflow<2.12,>=2.11.0->tensorflow-text>=2.10) (2.11.0)\n",
      "Requirement already satisfied: six>=1.12.0 in /Users/juicydoggo/opt/anaconda3/lib/python3.8/site-packages (from tensorflow<2.12,>=2.11.0->tensorflow-text>=2.10) (1.16.0)\n",
      "Requirement already satisfied: astunparse>=1.6.0 in /Users/juicydoggo/opt/anaconda3/lib/python3.8/site-packages (from tensorflow<2.12,>=2.11.0->tensorflow-text>=2.10) (1.6.3)\n",
      "Requirement already satisfied: h5py>=2.9.0 in /Users/juicydoggo/opt/anaconda3/lib/python3.8/site-packages (from tensorflow<2.12,>=2.11.0->tensorflow-text>=2.10) (2.10.0)\n",
      "Requirement already satisfied: tensorflow-io-gcs-filesystem>=0.23.1 in /Users/juicydoggo/opt/anaconda3/lib/python3.8/site-packages (from tensorflow<2.12,>=2.11.0->tensorflow-text>=2.10) (0.27.0)\n",
      "Requirement already satisfied: opt-einsum>=2.3.2 in /Users/juicydoggo/opt/anaconda3/lib/python3.8/site-packages (from tensorflow<2.12,>=2.11.0->tensorflow-text>=2.10) (3.3.0)\n",
      "Requirement already satisfied: google-pasta>=0.1.1 in /Users/juicydoggo/opt/anaconda3/lib/python3.8/site-packages (from tensorflow<2.12,>=2.11.0->tensorflow-text>=2.10) (0.2.0)\n",
      "Requirement already satisfied: wheel<1.0,>=0.23.0 in /Users/juicydoggo/opt/anaconda3/lib/python3.8/site-packages (from astunparse>=1.6.0->tensorflow<2.12,>=2.11.0->tensorflow-text>=2.10) (0.37.1)\n",
      "Requirement already satisfied: werkzeug>=1.0.1 in /Users/juicydoggo/opt/anaconda3/lib/python3.8/site-packages (from tensorboard<2.12,>=2.11->tensorflow<2.12,>=2.11.0->tensorflow-text>=2.10) (2.0.3)\n",
      "Requirement already satisfied: google-auth-oauthlib<0.5,>=0.4.1 in /Users/juicydoggo/opt/anaconda3/lib/python3.8/site-packages (from tensorboard<2.12,>=2.11->tensorflow<2.12,>=2.11.0->tensorflow-text>=2.10) (0.4.2)\n",
      "Requirement already satisfied: markdown>=2.6.8 in /Users/juicydoggo/opt/anaconda3/lib/python3.8/site-packages (from tensorboard<2.12,>=2.11->tensorflow<2.12,>=2.11.0->tensorflow-text>=2.10) (3.3.3)\n",
      "Requirement already satisfied: tensorboard-plugin-wit>=1.6.0 in /Users/juicydoggo/opt/anaconda3/lib/python3.8/site-packages (from tensorboard<2.12,>=2.11->tensorflow<2.12,>=2.11.0->tensorflow-text>=2.10) (1.8.0)\n",
      "Requirement already satisfied: google-auth<3,>=1.6.3 in /Users/juicydoggo/opt/anaconda3/lib/python3.8/site-packages (from tensorboard<2.12,>=2.11->tensorflow<2.12,>=2.11.0->tensorflow-text>=2.10) (1.26.1)\n",
      "Requirement already satisfied: requests<3,>=2.21.0 in /Users/juicydoggo/opt/anaconda3/lib/python3.8/site-packages (from tensorboard<2.12,>=2.11->tensorflow<2.12,>=2.11.0->tensorflow-text>=2.10) (2.26.0)\n",
      "Requirement already satisfied: tensorboard-data-server<0.7.0,>=0.6.0 in /Users/juicydoggo/opt/anaconda3/lib/python3.8/site-packages (from tensorboard<2.12,>=2.11->tensorflow<2.12,>=2.11.0->tensorflow-text>=2.10) (0.6.1)\n",
      "Requirement already satisfied: pyparsing!=3.0.5,>=2.0.2 in /Users/juicydoggo/opt/anaconda3/lib/python3.8/site-packages (from packaging->tensorflow<2.12,>=2.11.0->tensorflow-text>=2.10) (3.0.9)\n",
      "Requirement already satisfied: rsa<5,>=3.1.4 in /Users/juicydoggo/opt/anaconda3/lib/python3.8/site-packages (from google-auth<3,>=1.6.3->tensorboard<2.12,>=2.11->tensorflow<2.12,>=2.11.0->tensorflow-text>=2.10) (4.7)\n",
      "Requirement already satisfied: pyasn1-modules>=0.2.1 in /Users/juicydoggo/opt/anaconda3/lib/python3.8/site-packages (from google-auth<3,>=1.6.3->tensorboard<2.12,>=2.11->tensorflow<2.12,>=2.11.0->tensorflow-text>=2.10) (0.2.8)\n",
      "Requirement already satisfied: cachetools<5.0,>=2.0.0 in /Users/juicydoggo/opt/anaconda3/lib/python3.8/site-packages (from google-auth<3,>=1.6.3->tensorboard<2.12,>=2.11->tensorflow<2.12,>=2.11.0->tensorflow-text>=2.10) (4.2.2)\n",
      "Requirement already satisfied: requests-oauthlib>=0.7.0 in /Users/juicydoggo/opt/anaconda3/lib/python3.8/site-packages (from google-auth-oauthlib<0.5,>=0.4.1->tensorboard<2.12,>=2.11->tensorflow<2.12,>=2.11.0->tensorflow-text>=2.10) (1.3.0)\n",
      "Requirement already satisfied: charset-normalizer~=2.0.0 in /Users/juicydoggo/opt/anaconda3/lib/python3.8/site-packages (from requests<3,>=2.21.0->tensorboard<2.12,>=2.11->tensorflow<2.12,>=2.11.0->tensorflow-text>=2.10) (2.0.4)\n",
      "Requirement already satisfied: urllib3<1.27,>=1.21.1 in /Users/juicydoggo/opt/anaconda3/lib/python3.8/site-packages (from requests<3,>=2.21.0->tensorboard<2.12,>=2.11->tensorflow<2.12,>=2.11.0->tensorflow-text>=2.10) (1.26.12)\n",
      "Requirement already satisfied: idna<4,>=2.5 in /Users/juicydoggo/opt/anaconda3/lib/python3.8/site-packages (from requests<3,>=2.21.0->tensorboard<2.12,>=2.11->tensorflow<2.12,>=2.11.0->tensorflow-text>=2.10) (2.10)\n",
      "Requirement already satisfied: certifi>=2017.4.17 in /Users/juicydoggo/opt/anaconda3/lib/python3.8/site-packages (from requests<3,>=2.21.0->tensorboard<2.12,>=2.11->tensorflow<2.12,>=2.11.0->tensorflow-text>=2.10) (2022.9.24)\n",
      "Requirement already satisfied: pyasn1<0.5.0,>=0.4.6 in /Users/juicydoggo/opt/anaconda3/lib/python3.8/site-packages (from pyasn1-modules>=0.2.1->google-auth<3,>=1.6.3->tensorboard<2.12,>=2.11->tensorflow<2.12,>=2.11.0->tensorflow-text>=2.10) (0.4.8)\n",
      "Requirement already satisfied: oauthlib>=3.0.0 in /Users/juicydoggo/opt/anaconda3/lib/python3.8/site-packages (from requests-oauthlib>=0.7.0->google-auth-oauthlib<0.5,>=0.4.1->tensorboard<2.12,>=2.11->tensorflow<2.12,>=2.11.0->tensorflow-text>=2.10) (3.1.0)\n"
     ]
    },
    {
     "name": "stdout",
     "output_type": "stream",
     "text": [
      "Requirement already satisfied: einops in /Users/juicydoggo/opt/anaconda3/lib/python3.8/site-packages (0.2.0)\r\n"
     ]
    }
   ],
   "source": [
    "!pip install \"tensorflow-text>=2.10\"\n",
    "!pip install einops"
   ]
  },
  {
   "cell_type": "code",
   "execution_count": 2,
   "metadata": {
    "execution": {
     "iopub.execute_input": "2022-12-14T13:53:24.243288Z",
     "iopub.status.busy": "2022-12-14T13:53:24.242555Z",
     "iopub.status.idle": "2022-12-14T13:53:26.697361Z",
     "shell.execute_reply": "2022-12-14T13:53:26.696646Z"
    },
    "id": "tnxXKDjq3jEL"
   },
   "outputs": [
    {
     "name": "stderr",
     "output_type": "stream",
     "text": [
      "2023-01-06 03:22:19.953892: I tensorflow/core/platform/cpu_feature_guard.cc:193] This TensorFlow binary is optimized with oneAPI Deep Neural Network Library (oneDNN) to use the following CPU instructions in performance-critical operations:  AVX2 AVX512F AVX512_VNNI FMA\n",
      "To enable them in other operations, rebuild TensorFlow with the appropriate compiler flags.\n"
     ]
    }
   ],
   "source": [
    "import numpy as np\n",
    "\n",
    "import typing\n",
    "from typing import Any, Tuple\n",
    "\n",
    "import einops\n",
    "import matplotlib.pyplot as plt\n",
    "import matplotlib.ticker as ticker\n",
    "\n",
    "import tensorflow as tf\n",
    "import tensorflow_text as tf_text"
   ]
  },
  {
   "cell_type": "code",
   "execution_count": 3,
   "metadata": {
    "execution": {
     "iopub.execute_input": "2022-12-14T13:53:26.701805Z",
     "iopub.status.busy": "2022-12-14T13:53:26.700963Z",
     "iopub.status.idle": "2022-12-14T13:53:26.706955Z",
     "shell.execute_reply": "2022-12-14T13:53:26.706105Z"
    },
    "id": "KqFqKi4fqN9X"
   },
   "outputs": [],
   "source": [
    "#@title\n",
    "class ShapeChecker():\n",
    "  def __init__(self):\n",
    "    # Keep a cache of every axis-name seen\n",
    "    self.shapes = {}\n",
    "\n",
    "  def __call__(self, tensor, names, broadcast=False):\n",
    "    if not tf.executing_eagerly():\n",
    "      return\n",
    "\n",
    "    parsed = einops.parse_shape(tensor, names)\n",
    "\n",
    "    for name, new_dim in parsed.items():\n",
    "      old_dim = self.shapes.get(name, None)\n",
    "      \n",
    "      if (broadcast and new_dim == 1):\n",
    "        continue\n",
    "\n",
    "      if old_dim is None:\n",
    "        # If the axis name is new, add its length to the cache.\n",
    "        self.shapes[name] = new_dim\n",
    "        continue\n",
    "\n",
    "      if new_dim != old_dim:\n",
    "        raise ValueError(f\"Shape mismatch for dimension: '{name}'\\n\"\n",
    "                         f\"    found: {new_dim}\\n\"\n",
    "                         f\"    expected: {old_dim}\\n\")"
   ]
  },
  {
   "cell_type": "markdown",
   "metadata": {
    "id": "gjUROhJfH3ML"
   },
   "source": [
    "## The data"
   ]
  },
  {
   "cell_type": "markdown",
   "metadata": {
    "id": "puE_K74DIE9W"
   },
   "source": [
    "The tutorial uses a Statistical Machine Translation for Sign Language dataset provided by Dr. Achraf Othman (ASLG_PC12). This dataset contains language translation pairs in the format: \n",
    "\n",
    "```\n",
    "APPROVAL MINUTE DESC-PREVIOUS SIT SEE MINUTE\tapproval of minutes of previous sitting see minutes\n",
    "```\n",
    "\n"
   ]
  },
  {
   "cell_type": "markdown",
   "metadata": {
    "id": "wfodePkj3jEa"
   },
   "source": [
    "### Download and prepare the dataset\n",
    "\n",
    "Here are the steps you need to take to prepare the data:\n",
    "\n",
    "1. Add a *start* and *end* token to each sentence.\n",
    "2. Clean the sentences by removing special characters.\n",
    "3. Create a word index and reverse word index (dictionaries mapping from word → id and id → word).\n",
    "4. Pad each sentence to a maximum length."
   ]
  },
  {
   "cell_type": "code",
   "execution_count": 4,
   "metadata": {
    "execution": {
     "iopub.execute_input": "2022-12-14T13:53:26.710535Z",
     "iopub.status.busy": "2022-12-14T13:53:26.709875Z",
     "iopub.status.idle": "2022-12-14T13:53:26.852614Z",
     "shell.execute_reply": "2022-12-14T13:53:26.851762Z"
    },
    "id": "kRVATYOgJs1b"
   },
   "outputs": [],
   "source": [
    "import pathlib\n",
    "\n",
    "path_to_file = pathlib.Path('../data/gloss-text-augmented.txt')"
   ]
  },
  {
   "cell_type": "code",
   "execution_count": 5,
   "metadata": {
    "execution": {
     "iopub.execute_input": "2022-12-14T13:53:26.856293Z",
     "iopub.status.busy": "2022-12-14T13:53:26.855695Z",
     "iopub.status.idle": "2022-12-14T13:53:26.860524Z",
     "shell.execute_reply": "2022-12-14T13:53:26.859728Z"
    },
    "id": "OHn4Dct23jEm"
   },
   "outputs": [],
   "source": [
    "def load_data(path):\n",
    "  text = path.read_text(encoding='utf-8')\n",
    "\n",
    "  lines = text.splitlines()\n",
    "  pairs = [line.split('\\t') for line in lines]\n",
    "\n",
    "  context = np.array([context.lower() for context,target in pairs])\n",
    "  target = np.array([target.lower() for context,target in pairs])\n",
    "\n",
    "  return target, context"
   ]
  },
  {
   "cell_type": "code",
   "execution_count": 6,
   "metadata": {
    "execution": {
     "iopub.execute_input": "2022-12-14T13:53:26.863774Z",
     "iopub.status.busy": "2022-12-14T13:53:26.863146Z",
     "iopub.status.idle": "2022-12-14T13:53:27.384149Z",
     "shell.execute_reply": "2022-12-14T13:53:27.383109Z"
    },
    "id": "cTbSbBz55QtF"
   },
   "outputs": [
    {
     "name": "stdout",
     "output_type": "stream",
     "text": [
      "what be xyou name ?\n"
     ]
    }
   ],
   "source": [
    "target_raw, context_raw = load_data(path_to_file)\n",
    "print(context_raw[-1])"
   ]
  },
  {
   "cell_type": "code",
   "execution_count": 7,
   "metadata": {
    "execution": {
     "iopub.execute_input": "2022-12-14T13:53:27.388169Z",
     "iopub.status.busy": "2022-12-14T13:53:27.387490Z",
     "iopub.status.idle": "2022-12-14T13:53:27.391883Z",
     "shell.execute_reply": "2022-12-14T13:53:27.391094Z"
    },
    "id": "lH_dPY8TRp3c"
   },
   "outputs": [
    {
     "name": "stdout",
     "output_type": "stream",
     "text": [
      "what is your name ?\n"
     ]
    }
   ],
   "source": [
    "print(target_raw[-1])"
   ]
  },
  {
   "cell_type": "markdown",
   "metadata": {
    "id": "rgCLkfv5uO3d"
   },
   "source": [
    "### Create a tf.data dataset"
   ]
  },
  {
   "cell_type": "markdown",
   "metadata": {
    "id": "PfVWx3WaI5Df"
   },
   "source": [
    "From these arrays of strings we can create a `tf.data.Dataset` of strings that shuffles and batches them efficiently:"
   ]
  },
  {
   "cell_type": "code",
   "execution_count": 8,
   "metadata": {
    "execution": {
     "iopub.execute_input": "2022-12-14T13:53:27.395550Z",
     "iopub.status.busy": "2022-12-14T13:53:27.394896Z",
     "iopub.status.idle": "2022-12-14T13:53:31.109819Z",
     "shell.execute_reply": "2022-12-14T13:53:31.109081Z"
    },
    "id": "3rZFgz69nMPa"
   },
   "outputs": [
    {
     "name": "stderr",
     "output_type": "stream",
     "text": [
      "2023-01-06 03:22:26.165184: I tensorflow/core/platform/cpu_feature_guard.cc:193] This TensorFlow binary is optimized with oneAPI Deep Neural Network Library (oneDNN) to use the following CPU instructions in performance-critical operations:  AVX2 AVX512F AVX512_VNNI FMA\n",
      "To enable them in other operations, rebuild TensorFlow with the appropriate compiler flags.\n"
     ]
    }
   ],
   "source": [
    "BUFFER_SIZE = len(context_raw)\n",
    "BATCH_SIZE = 64\n",
    "\n",
    "is_train = np.random.uniform(size=(len(target_raw),)) < 0.8\n",
    "\n",
    "train_raw = (\n",
    "    tf.data.Dataset\n",
    "    .from_tensor_slices((context_raw[is_train], target_raw[is_train]))\n",
    "    .shuffle(BUFFER_SIZE)\n",
    "    .batch(BATCH_SIZE))\n",
    "val_raw = (\n",
    "    tf.data.Dataset\n",
    "    .from_tensor_slices((context_raw[~is_train], target_raw[~is_train]))\n",
    "    .shuffle(BUFFER_SIZE)\n",
    "    .batch(BATCH_SIZE))"
   ]
  },
  {
   "cell_type": "code",
   "execution_count": 9,
   "metadata": {
    "execution": {
     "iopub.execute_input": "2022-12-14T13:53:31.114119Z",
     "iopub.status.busy": "2022-12-14T13:53:31.113575Z",
     "iopub.status.idle": "2022-12-14T13:53:31.275545Z",
     "shell.execute_reply": "2022-12-14T13:53:31.274854Z"
    },
    "id": "qc6-NK1GtWQt",
    "scrolled": true
   },
   "outputs": [
    {
     "name": "stdout",
     "output_type": "stream",
     "text": [
      "tf.Tensor(\n",
      "[b'six month ceasefire , which expire on 19 december , be desc-far from desc-perfect .'\n",
      " b'what have change ?'\n",
      " b'x-i do desc-not believe that this be desc-right course .'\n",
      " b'desc-refore x-we should desc-not lose momentum on desc-rapidly reach desc-ambitious conclusion doha development round .'\n",
      " b'next item be council and commission statement on eu strategy for baltic sea area .'], shape=(5,), dtype=string)\n",
      "\n",
      "tf.Tensor(\n",
      "[b'the six month ceasefire , which expired on 19 december , was far from perfect .'\n",
      " b'what has changed ?' b'i do not believe that this is the right course .'\n",
      " b'therefore we should not lose momentum on rapidly reaching an ambitious conclusion of the doha development round .'\n",
      " b'the next item is the council and commission statements on the eu strategy for the baltic sea area .'], shape=(5,), dtype=string)\n"
     ]
    }
   ],
   "source": [
    "for example_context_strings, example_target_strings in train_raw.take(1):\n",
    "  print(example_context_strings[:5])\n",
    "  print()\n",
    "  print(example_target_strings[:5])\n",
    "  break"
   ]
  },
  {
   "cell_type": "markdown",
   "metadata": {
    "id": "zCoxLcuN3bwv"
   },
   "source": [
    "### Text preprocessing"
   ]
  },
  {
   "cell_type": "markdown",
   "metadata": {
    "id": "7kwdPcHvzz_a"
   },
   "source": [
    "One of the goals of this implementation is to build a model that can be exported as a `tf.saved_model`. To make that exported model useful it should take `tf.string` inputs, and return `tf.string` outputs: All the text processing happens inside the model. Mainly using a `layers.TextVectorization` layer."
   ]
  },
  {
   "cell_type": "markdown",
   "metadata": {
    "id": "EOQ5n55X4uDB"
   },
   "source": [
    "#### Standardization"
   ]
  },
  {
   "cell_type": "code",
   "execution_count": 10,
   "metadata": {
    "execution": {
     "iopub.execute_input": "2022-12-14T13:53:31.279684Z",
     "iopub.status.busy": "2022-12-14T13:53:31.279165Z",
     "iopub.status.idle": "2022-12-14T13:53:31.284225Z",
     "shell.execute_reply": "2022-12-14T13:53:31.283647Z"
    },
    "id": "mD0e-DWGQ2Vo"
   },
   "outputs": [
    {
     "name": "stdout",
     "output_type": "stream",
     "text": [
      "b'this be why this report be desc-devoted desc-mainly to x-y .'\n",
      "b'this be why this report be desc-devoted desc-mainly to x-y .'\n"
     ]
    }
   ],
   "source": [
    "example_text = tf.constant('this be why this report be desc-devoted desc-mainly to x-y .')\n",
    "\n",
    "print(example_text.numpy())\n",
    "print(tf_text.normalize_utf8(example_text, 'NFKD').numpy())"
   ]
  },
  {
   "cell_type": "markdown",
   "metadata": {
    "id": "6hTllEjK6RSo"
   },
   "source": [
    "Unicode normalization will be the first step in the text standardization function:"
   ]
  },
  {
   "cell_type": "code",
   "execution_count": 11,
   "metadata": {
    "execution": {
     "iopub.execute_input": "2022-12-14T13:53:31.287728Z",
     "iopub.status.busy": "2022-12-14T13:53:31.287161Z",
     "iopub.status.idle": "2022-12-14T13:53:31.291699Z",
     "shell.execute_reply": "2022-12-14T13:53:31.291111Z"
    },
    "id": "chTF5N885F0P"
   },
   "outputs": [],
   "source": [
    "def tf_lower_and_split_punct(text):\n",
    "  # Split accented characters.\n",
    "  text = tf_text.normalize_utf8(text, 'NFKD')\n",
    "  text = tf.strings.lower(text)\n",
    "  # Keep space, a to z, and select punctuation.\n",
    "  text = tf.strings.regex_replace(text, '[^ a-z.?!,¿]', '')\n",
    "  # Add spaces around punctuation.\n",
    "  text = tf.strings.regex_replace(text, '[.?!,¿]', r' \\0 ')\n",
    "  # Strip whitespace.\n",
    "  text = tf.strings.strip(text)\n",
    "\n",
    "  text = tf.strings.join(['[START]', text, '[END]'], separator=' ')\n",
    "  return text"
   ]
  },
  {
   "cell_type": "code",
   "execution_count": 12,
   "metadata": {
    "execution": {
     "iopub.execute_input": "2022-12-14T13:53:31.295303Z",
     "iopub.status.busy": "2022-12-14T13:53:31.294695Z",
     "iopub.status.idle": "2022-12-14T13:53:31.303568Z",
     "shell.execute_reply": "2022-12-14T13:53:31.302985Z"
    },
    "id": "UREvDg3sEKYa",
    "scrolled": true
   },
   "outputs": [
    {
     "name": "stdout",
     "output_type": "stream",
     "text": [
      "this be why this report be desc-devoted desc-mainly to x-y .\n",
      "[START] this be why this report be descdevoted descmainly to xy  . [END]\n"
     ]
    }
   ],
   "source": [
    "print(example_text.numpy().decode())\n",
    "print(tf_lower_and_split_punct(example_text).numpy().decode())"
   ]
  },
  {
   "cell_type": "markdown",
   "metadata": {
    "id": "4q-sKsSI7xRZ"
   },
   "source": [
    "#### Text Vectorization"
   ]
  },
  {
   "cell_type": "markdown",
   "metadata": {
    "id": "6aKn8qd37abi"
   },
   "source": [
    "This standardization function will be wrapped up in a `tf.keras.layers.TextVectorization` layer which will handle the vocabulary extraction and conversion of input text to sequences of tokens."
   ]
  },
  {
   "cell_type": "code",
   "execution_count": 13,
   "metadata": {
    "execution": {
     "iopub.execute_input": "2022-12-14T13:53:31.306633Z",
     "iopub.status.busy": "2022-12-14T13:53:31.306387Z",
     "iopub.status.idle": "2022-12-14T13:53:31.318888Z",
     "shell.execute_reply": "2022-12-14T13:53:31.318172Z"
    },
    "id": "eAY9k49G3jE_"
   },
   "outputs": [],
   "source": [
    "max_vocab_size = 5000\n",
    "\n",
    "context_text_processor = tf.keras.layers.TextVectorization(\n",
    "    standardize=tf_lower_and_split_punct,\n",
    "    max_tokens=max_vocab_size,\n",
    "    ragged=True)"
   ]
  },
  {
   "cell_type": "markdown",
   "metadata": {
    "id": "7kbC6ODP8IK_"
   },
   "source": [
    "The `TextVectorization` layer and many other [Keras preprocessing layers](https://www.tensorflow.org/guide/keras/preprocessing_layers) have an `adapt` method. This method reads one epoch of the training data, and works a lot like `Model.fit`. This `adapt` method initializes the layer based on the data. Here it determines the vocabulary:"
   ]
  },
  {
   "cell_type": "code",
   "execution_count": 14,
   "metadata": {
    "execution": {
     "iopub.execute_input": "2022-12-14T13:53:31.322181Z",
     "iopub.status.busy": "2022-12-14T13:53:31.321622Z",
     "iopub.status.idle": "2022-12-14T13:53:33.629086Z",
     "shell.execute_reply": "2022-12-14T13:53:33.628165Z"
    },
    "id": "bmsI1Yql8FYe"
   },
   "outputs": [
    {
     "name": "stdout",
     "output_type": "stream",
     "text": [
      "WARNING:tensorflow:From /Users/juicydoggo/opt/anaconda3/lib/python3.8/site-packages/tensorflow/python/autograph/pyct/static_analysis/liveness.py:83: Analyzer.lamba_check (from tensorflow.python.autograph.pyct.static_analysis.liveness) is deprecated and will be removed after 2023-09-23.\n",
      "Instructions for updating:\n",
      "Lambda fuctions will be no more assumed to be used in the statement where they are used, or at least in the same block. https://github.com/tensorflow/tensorflow/issues/56089\n"
     ]
    },
    {
     "data": {
      "text/plain": [
       "['',\n",
       " '[UNK]',\n",
       " '[START]',\n",
       " '[END]',\n",
       " '.',\n",
       " 'be',\n",
       " ',',\n",
       " 'to',\n",
       " 'xwe',\n",
       " 'in',\n",
       " 'and',\n",
       " 'this',\n",
       " 'that',\n",
       " 'xi',\n",
       " 'have',\n",
       " 'for',\n",
       " 'xit',\n",
       " 'descnot',\n",
       " 'on',\n",
       " 'will']"
      ]
     },
     "execution_count": 14,
     "metadata": {},
     "output_type": "execute_result"
    }
   ],
   "source": [
    "context_text_processor.adapt(train_raw.map(lambda context, target: context))\n",
    "\n",
    "# Here are the first 10 words from the vocabulary:\n",
    "context_text_processor.get_vocabulary()[:20]"
   ]
  },
  {
   "cell_type": "markdown",
   "metadata": {
    "id": "9kGjIFjX8_Wp"
   },
   "source": [
    "That's the Gloss `TextVectorization` layer, now build and `.adapt()` the Text one:"
   ]
  },
  {
   "cell_type": "code",
   "execution_count": 15,
   "metadata": {
    "execution": {
     "iopub.execute_input": "2022-12-14T13:53:33.633770Z",
     "iopub.status.busy": "2022-12-14T13:53:33.633065Z",
     "iopub.status.idle": "2022-12-14T13:53:35.836766Z",
     "shell.execute_reply": "2022-12-14T13:53:35.835935Z"
    },
    "id": "jlC4xuZnKLBS"
   },
   "outputs": [
    {
     "data": {
      "text/plain": [
       "['',\n",
       " '[UNK]',\n",
       " '[START]',\n",
       " '[END]',\n",
       " '.',\n",
       " 'the',\n",
       " ',',\n",
       " 'of',\n",
       " 'to',\n",
       " 'is',\n",
       " 'in',\n",
       " 'and',\n",
       " 'this',\n",
       " 'a',\n",
       " 'we',\n",
       " 'that',\n",
       " 'i',\n",
       " 'for',\n",
       " 'it',\n",
       " 'be']"
      ]
     },
     "execution_count": 15,
     "metadata": {},
     "output_type": "execute_result"
    }
   ],
   "source": [
    "target_text_processor = tf.keras.layers.TextVectorization(\n",
    "    standardize=tf_lower_and_split_punct,\n",
    "    max_tokens=max_vocab_size,\n",
    "    ragged=True)\n",
    "\n",
    "target_text_processor.adapt(train_raw.map(lambda context, target: target))\n",
    "target_text_processor.get_vocabulary()[:20]"
   ]
  },
  {
   "cell_type": "markdown",
   "metadata": {
    "id": "BWQqlP_s9eIv"
   },
   "source": [
    "Now these layers can convert a batch of strings into a batch of token IDs:"
   ]
  },
  {
   "cell_type": "code",
   "execution_count": 16,
   "metadata": {
    "execution": {
     "iopub.execute_input": "2022-12-14T13:53:35.840526Z",
     "iopub.status.busy": "2022-12-14T13:53:35.839872Z",
     "iopub.status.idle": "2022-12-14T13:53:35.889422Z",
     "shell.execute_reply": "2022-12-14T13:53:35.888738Z"
    },
    "id": "9KZxj8IrNZ9S"
   },
   "outputs": [
    {
     "data": {
      "text/plain": [
       "<tf.RaggedTensor [[2, 826, 476, 1971, 6, 50, 3042, 18, 910, 6, 5, 327, 49, 2137, 4, 3],\n",
       " [2, 46, 14, 111, 28, 3], [2, 13, 23, 17, 110, 12, 11, 5, 141, 169, 4, 3]]>"
      ]
     },
     "execution_count": 16,
     "metadata": {},
     "output_type": "execute_result"
    }
   ],
   "source": [
    "example_tokens = context_text_processor(example_context_strings)\n",
    "example_tokens[:3, :]"
   ]
  },
  {
   "cell_type": "markdown",
   "metadata": {
    "id": "AA9rUn9G9n78"
   },
   "source": [
    "The `get_vocabulary` method can be used to convert token IDs back to text:"
   ]
  },
  {
   "cell_type": "code",
   "execution_count": 17,
   "metadata": {
    "execution": {
     "iopub.execute_input": "2022-12-14T13:53:35.893034Z",
     "iopub.status.busy": "2022-12-14T13:53:35.892407Z",
     "iopub.status.idle": "2022-12-14T13:53:35.909454Z",
     "shell.execute_reply": "2022-12-14T13:53:35.908852Z"
    },
    "id": "98g9rcxGQY0I"
   },
   "outputs": [
    {
     "data": {
      "text/plain": [
       "'[START] six month ceasefire , which expire on december , be descfar from descperfect . [END]'"
      ]
     },
     "execution_count": 17,
     "metadata": {},
     "output_type": "execute_result"
    }
   ],
   "source": [
    "context_vocab = np.array(context_text_processor.get_vocabulary())\n",
    "tokens = context_vocab[example_tokens[0].numpy()]\n",
    "' '.join(tokens)"
   ]
  },
  {
   "cell_type": "markdown",
   "metadata": {
    "id": "Ot0aCL9t-Ghi"
   },
   "source": [
    "The returned token IDs are zero-padded. This can easily be turned into a mask:"
   ]
  },
  {
   "cell_type": "code",
   "execution_count": 18,
   "metadata": {
    "execution": {
     "iopub.execute_input": "2022-12-14T13:53:35.912742Z",
     "iopub.status.busy": "2022-12-14T13:53:35.912188Z",
     "iopub.status.idle": "2022-12-14T13:53:36.157685Z",
     "shell.execute_reply": "2022-12-14T13:53:36.156965Z"
    },
    "id": "_jx4Or_eFRSz"
   },
   "outputs": [
    {
     "data": {
      "text/plain": [
       "Text(0.5, 1.0, 'Mask')"
      ]
     },
     "execution_count": 18,
     "metadata": {},
     "output_type": "execute_result"
    },
    {
     "data": {
      "image/png": "[encoded data removed]",
      "text/plain": [
       "<Figure size 640x480 with 2 Axes>"
      ]
     },
     "metadata": {},
     "output_type": "display_data"
    }
   ],
   "source": [
    "plt.subplot(1, 2, 1)\n",
    "plt.pcolormesh(example_tokens.to_tensor())\n",
    "plt.title('Token IDs')\n",
    "\n",
    "plt.subplot(1, 2, 2)\n",
    "plt.pcolormesh(example_tokens.to_tensor() != 0)\n",
    "plt.title('Mask')"
   ]
  },
  {
   "cell_type": "markdown",
   "metadata": {
    "id": "3O0B4XdFlRgc"
   },
   "source": [
    "### Process the dataset\n",
    "\n"
   ]
  },
  {
   "cell_type": "markdown",
   "metadata": {
    "id": "rVCuyuSp_whd"
   },
   "source": [
    "The `process_text` function below converts the `Datasets` of strings, into  0-padded tensors of token IDs. It also converts from a `(context, target)` pair to an `((context, target_in), target_out)` pair for training with `keras.Model.fit`. Keras expects `(inputs, labels)` pairs, the inputs are the `(context, target_in)` and the labels are `target_out`. The difference between `target_in` and `target_out` is that they are shifted by one step relative to eachother, so that at each location the label is the next token."
   ]
  },
  {
   "cell_type": "code",
   "execution_count": 19,
   "metadata": {
    "execution": {
     "iopub.execute_input": "2022-12-14T13:53:36.161705Z",
     "iopub.status.busy": "2022-12-14T13:53:36.161123Z",
     "iopub.status.idle": "2022-12-14T13:53:36.376562Z",
     "shell.execute_reply": "2022-12-14T13:53:36.375836Z"
    },
    "id": "wk5tbZWQl5u1"
   },
   "outputs": [],
   "source": [
    "def process_text(context, target):\n",
    "  context = context_text_processor(context).to_tensor()\n",
    "  target = target_text_processor(target)\n",
    "  targ_in = target[:,:-1].to_tensor()\n",
    "  targ_out = target[:,1:].to_tensor()\n",
    "  return (context, targ_in), targ_out\n",
    "\n",
    "\n",
    "train_ds = train_raw.map(process_text, tf.data.AUTOTUNE)\n",
    "val_ds = val_raw.map(process_text, tf.data.AUTOTUNE)"
   ]
  },
  {
   "cell_type": "markdown",
   "metadata": {
    "id": "4iGi7X2m_tbM"
   },
   "source": [
    "Here is the first sequence of each, from the first batch:"
   ]
  },
  {
   "cell_type": "code",
   "execution_count": 20,
   "metadata": {
    "execution": {
     "iopub.execute_input": "2022-12-14T13:53:36.380626Z",
     "iopub.status.busy": "2022-12-14T13:53:36.380088Z",
     "iopub.status.idle": "2022-12-14T13:53:36.595128Z",
     "shell.execute_reply": "2022-12-14T13:53:36.594462Z"
    },
    "id": "woQBWAjLsJkr"
   },
   "outputs": [
    {
     "name": "stdout",
     "output_type": "stream",
     "text": [
      "[  2  48  14 523   7  47 109 811 552  93]\n",
      "\n",
      "[   2    5   55   27 2339    8   85  108   13 1020]\n",
      "[   5   55   27 2339    8   85  108   13 1020 1270]\n"
     ]
    }
   ],
   "source": [
    "for (ex_context_tok, ex_tar_in), ex_tar_out in train_ds.take(1):\n",
    "  print(ex_context_tok[0, :10].numpy()) \n",
    "  print()\n",
    "  print(ex_tar_in[0, :10].numpy()) \n",
    "  print(ex_tar_out[0, :10].numpy()) "
   ]
  },
  {
   "cell_type": "markdown",
   "metadata": {
    "id": "TNfHIF71ulLu"
   },
   "source": [
    "## The encoder/decoder\n",
    "\n",
    "The following diagrams shows an overview of the model. In both the encoder is on the left, the decoder is on the right. At each time-step the decoder's output is combined with the encoder's output, to predict the next word. \n",
    "\n",
    "The original [left] contains a few extra connections that are intentionally omitted from this model [right], as they are generally unnecessary, and difficult to implement. Those missing connections are:\n",
    "\n",
    "1. Feeding the state from the encoder's RNN to the decoder's RNN\n",
    "2. Feeding the attention output back to the RNN's input.\n",
    "\n",
    "<table>\n",
    "<tr>\n",
    "  <td>\n",
    "   <img width=500 src=\"https://www.tensorflow.org/images/seq2seq/attention_mechanism.jpg\"/>\n",
    "  </td>\n",
    "  <td>\n",
    "   <img width=380 src=\"https://www.tensorflow.org/images/tutorials/transformer/RNN+attention.png\"/>\n",
    "  </td>\n",
    "</tr>\n",
    "<tr>\n",
    "  <th colspan=1>The original from <a href=https://arxiv.org/abs/1508.04025v5>Effective Approaches to Attention-based Neural Machine Translation</a></th>\n",
    "  <th colspan=1></th>\n",
    "<tr>\n",
    "</table>\n"
   ]
  },
  {
   "cell_type": "markdown",
   "metadata": {
    "id": "gzQWx2saImMV"
   },
   "source": [
    "Before getting into it define constants for the model:"
   ]
  },
  {
   "cell_type": "code",
   "execution_count": 21,
   "metadata": {
    "execution": {
     "iopub.execute_input": "2022-12-14T13:53:36.599307Z",
     "iopub.status.busy": "2022-12-14T13:53:36.598631Z",
     "iopub.status.idle": "2022-12-14T13:53:36.602039Z",
     "shell.execute_reply": "2022-12-14T13:53:36.601401Z"
    },
    "id": "_a9uNz3-IrF-"
   },
   "outputs": [],
   "source": [
    "UNITS = 256"
   ]
  },
  {
   "cell_type": "markdown",
   "metadata": {
    "id": "blNgVbLSzpsr"
   },
   "source": [
    "### The encoder\n",
    "\n",
    "The goal of the encoder is to process the context sequence into a sequence of vectors that are useful for the decoder as it attempts to predict the next output for each timestep. Since the context sequence is constant, there is no restriction on how information can flow in the encoder, so use a bidirectional-RNN to do the processing:\n",
    "\n",
    "<table>\n",
    "<tr>\n",
    "  <td>\n",
    "   <img width=500 src=\"https://tensorflow.org/images/tutorials/transformer/RNN-bidirectional.png\"/>\n",
    "  </td>\n",
    "</tr>\n",
    "<tr>\n",
    "  <th>A bidirectional RNN</th>\n",
    "<tr>\n",
    "</table>\n",
    "\n",
    "The encoder:\n",
    "\n",
    "1. Takes a list of token IDs (from `context_text_processor`).\n",
    "3. Looks up an embedding vector for each token (Using a `layers.Embedding`).\n",
    "4. Processes the embeddings into a new sequence (Using a bidirectional `layers.GRU`).\n",
    "5. Returns the processed sequence. This will be passed to the attention head."
   ]
  },
  {
   "cell_type": "code",
   "execution_count": 22,
   "metadata": {
    "execution": {
     "iopub.execute_input": "2022-12-14T13:53:36.605407Z",
     "iopub.status.busy": "2022-12-14T13:53:36.604915Z",
     "iopub.status.idle": "2022-12-14T13:53:36.611486Z",
     "shell.execute_reply": "2022-12-14T13:53:36.610923Z"
    },
    "id": "nZ2rI24i3jFg"
   },
   "outputs": [],
   "source": [
    "class Encoder(tf.keras.layers.Layer):\n",
    "  def __init__(self, text_processor, units):\n",
    "    super(Encoder, self).__init__()\n",
    "    self.text_processor = text_processor\n",
    "    self.vocab_size = text_processor.vocabulary_size()\n",
    "    self.units = units\n",
    "    \n",
    "    # The embedding layer converts tokens to vectors\n",
    "    self.embedding = tf.keras.layers.Embedding(self.vocab_size, units,\n",
    "                                               mask_zero=True)\n",
    "\n",
    "    # The RNN layer processes those vectors sequentially.\n",
    "    self.rnn = tf.keras.layers.Bidirectional(\n",
    "        merge_mode='sum',\n",
    "        layer=tf.keras.layers.GRU(units,\n",
    "                            # Return the sequence and state\n",
    "                            return_sequences=True,\n",
    "                            recurrent_initializer='glorot_uniform'))\n",
    "\n",
    "  def call(self, x):\n",
    "    shape_checker = ShapeChecker()\n",
    "    shape_checker(x, 'batch s')\n",
    "\n",
    "    # 2. The embedding layer looks up the embedding vector for each token.\n",
    "    x = self.embedding(x)\n",
    "    shape_checker(x, 'batch s units')\n",
    "\n",
    "    # 3. The GRU processes the sequence of embeddings.\n",
    "    x = self.rnn(x)\n",
    "    shape_checker(x, 'batch s units')\n",
    "\n",
    "    # 4. Returns the new sequence of embeddings.\n",
    "    return x\n",
    "\n",
    "  def convert_input(self, texts):\n",
    "    texts = tf.convert_to_tensor(texts)\n",
    "    if len(texts.shape) == 0:\n",
    "      texts = tf.convert_to_tensor(texts)[tf.newaxis]\n",
    "    context = self.text_processor(texts).to_tensor()\n",
    "    context = self(context)\n",
    "    return context"
   ]
  },
  {
   "cell_type": "code",
   "execution_count": 23,
   "metadata": {
    "execution": {
     "iopub.execute_input": "2022-12-14T13:53:36.615068Z",
     "iopub.status.busy": "2022-12-14T13:53:36.614428Z",
     "iopub.status.idle": "2022-12-14T13:53:37.303226Z",
     "shell.execute_reply": "2022-12-14T13:53:37.302546Z"
    },
    "id": "60gSVh05Jl6l"
   },
   "outputs": [
    {
     "name": "stdout",
     "output_type": "stream",
     "text": [
      "Context tokens, shape (batch, s): (64, 21)\n",
      "Encoder output, shape (batch, s, units): (64, 21, 256)\n"
     ]
    }
   ],
   "source": [
    "# Encode the input sequence.\n",
    "encoder = Encoder(context_text_processor, UNITS)\n",
    "ex_context = encoder(ex_context_tok)\n",
    "\n",
    "print(f'Context tokens, shape (batch, s): {ex_context_tok.shape}')\n",
    "print(f'Encoder output, shape (batch, s, units): {ex_context.shape}')"
   ]
  },
  {
   "cell_type": "markdown",
   "metadata": {
    "id": "45xM_Gl1MgXY"
   },
   "source": [
    "### The attention layer\n",
    "\n",
    "The attention layer lets the decoder access the information extracted by the encoder. It computes a vector from the entire context sequence, and adds that to the decoder's output. \n",
    "\n",
    "The simplest way you could calculate a single vector from the entire sequence would be to take the average across the sequence (`layers.GlobalAveragePooling1D`). An attention layer is similar, but calculates a **weighted** average across the context sequence. Where the weights are calculated from the combination of context and \"query\" vectors.\n",
    "\n",
    "<table>\n",
    "<tr>\n",
    "  <td>\n",
    "   <img width=500 src=\"https://www.tensorflow.org/images/tutorials/transformer/CrossAttention-new-full.png\"/>\n",
    "  </td>\n",
    "</tr>\n",
    "<tr>\n",
    "  <th colspan=1>The attention layer</th>\n",
    "<tr>\n",
    "</table>"
   ]
  },
  {
   "cell_type": "code",
   "execution_count": 24,
   "metadata": {
    "execution": {
     "iopub.execute_input": "2022-12-14T13:53:37.307080Z",
     "iopub.status.busy": "2022-12-14T13:53:37.306521Z",
     "iopub.status.idle": "2022-12-14T13:53:37.312683Z",
     "shell.execute_reply": "2022-12-14T13:53:37.312023Z"
    },
    "id": "-Ql3ymqwD8LS"
   },
   "outputs": [],
   "source": [
    "class CrossAttention(tf.keras.layers.Layer):\n",
    "  def __init__(self, units, **kwargs):\n",
    "    super().__init__()\n",
    "    self.mha = tf.keras.layers.MultiHeadAttention(key_dim=units, num_heads=1, **kwargs)\n",
    "    self.layernorm = tf.keras.layers.LayerNormalization()\n",
    "    self.add = tf.keras.layers.Add()\n",
    "\n",
    "  def call(self, x, context):\n",
    "    shape_checker = ShapeChecker()\n",
    " \n",
    "    shape_checker(x, 'batch t units')\n",
    "    shape_checker(context, 'batch s units')\n",
    "\n",
    "    attn_output, attn_scores = self.mha(\n",
    "        query=x,\n",
    "        value=context,\n",
    "        return_attention_scores=True)\n",
    "    \n",
    "    shape_checker(x, 'batch t units')\n",
    "    shape_checker(attn_scores, 'batch heads t s')\n",
    "    \n",
    "    # Cache the attention scores for plotting later.\n",
    "    attn_scores = tf.reduce_mean(attn_scores, axis=1)\n",
    "    shape_checker(attn_scores, 'batch t s')\n",
    "    self.last_attention_weights = attn_scores\n",
    "\n",
    "    x = self.add([x, attn_output])\n",
    "    x = self.layernorm(x)\n",
    "\n",
    "    return x"
   ]
  },
  {
   "cell_type": "code",
   "execution_count": 25,
   "metadata": {
    "execution": {
     "iopub.execute_input": "2022-12-14T13:53:37.315939Z",
     "iopub.status.busy": "2022-12-14T13:53:37.315467Z",
     "iopub.status.idle": "2022-12-14T13:53:37.468755Z",
     "shell.execute_reply": "2022-12-14T13:53:37.468036Z"
    },
    "id": "7y7hjPkNMmHh"
   },
   "outputs": [
    {
     "name": "stdout",
     "output_type": "stream",
     "text": [
      "Context sequence, shape (batch, s, units): (64, 21, 256)\n",
      "Target sequence, shape (batch, t, units): (64, 23, 256)\n",
      "Attention result, shape (batch, t, units): (64, 23, 256)\n",
      "Attention weights, shape (batch, t, s):    (64, 23, 21)\n"
     ]
    }
   ],
   "source": [
    "attention_layer = CrossAttention(UNITS)\n",
    "\n",
    "# Attend to the encoded tokens\n",
    "embed = tf.keras.layers.Embedding(target_text_processor.vocabulary_size(),\n",
    "                                  output_dim=UNITS, mask_zero=True)\n",
    "ex_tar_embed = embed(ex_tar_in)\n",
    "\n",
    "result = attention_layer(ex_tar_embed, ex_context)\n",
    "\n",
    "print(f'Context sequence, shape (batch, s, units): {ex_context.shape}')\n",
    "print(f'Target sequence, shape (batch, t, units): {ex_tar_embed.shape}')\n",
    "print(f'Attention result, shape (batch, t, units): {result.shape}')\n",
    "print(f'Attention weights, shape (batch, t, s):    {attention_layer.last_attention_weights.shape}')"
   ]
  },
  {
   "cell_type": "markdown",
   "metadata": {
    "id": "vx9fUhi3Pmwp"
   },
   "source": [
    "The attention weights will sum to `1` over the context sequence, at each location in the target sequence."
   ]
  },
  {
   "cell_type": "code",
   "execution_count": 26,
   "metadata": {
    "execution": {
     "iopub.execute_input": "2022-12-14T13:53:37.472854Z",
     "iopub.status.busy": "2022-12-14T13:53:37.472230Z",
     "iopub.status.idle": "2022-12-14T13:53:37.478239Z",
     "shell.execute_reply": "2022-12-14T13:53:37.477607Z"
    },
    "id": "zxyR7cmQPn9P"
   },
   "outputs": [
    {
     "data": {
      "text/plain": [
       "array([1.        , 1.        , 1.        , 1.        , 0.9999999 ,\n",
       "       1.        , 1.        , 0.99999994, 1.        , 1.        ,\n",
       "       1.        , 1.        , 1.        , 1.0000001 , 1.        ,\n",
       "       1.        , 1.        , 1.        , 1.        , 1.        ,\n",
       "       1.        , 1.        , 1.        ], dtype=float32)"
      ]
     },
     "execution_count": 26,
     "metadata": {},
     "output_type": "execute_result"
    }
   ],
   "source": [
    "attention_layer.last_attention_weights[0].numpy().sum(axis=-1)"
   ]
  },
  {
   "cell_type": "markdown",
   "metadata": {
    "id": "AagyXMH-Jhqt"
   },
   "source": [
    "\n",
    "\n",
    "Here are the attention weights across the context sequences at `t=0`:"
   ]
  },
  {
   "cell_type": "code",
   "execution_count": 27,
   "metadata": {
    "execution": {
     "iopub.execute_input": "2022-12-14T13:53:37.481565Z",
     "iopub.status.busy": "2022-12-14T13:53:37.481145Z",
     "iopub.status.idle": "2022-12-14T13:53:37.715882Z",
     "shell.execute_reply": "2022-12-14T13:53:37.715248Z"
    },
    "id": "Rqr8XGsAJlf6"
   },
   "outputs": [
    {
     "data": {
      "image/png": "[encoded data removed]",
      "text/plain": [
       "<Figure size 640x480 with 2 Axes>"
      ]
     },
     "metadata": {},
     "output_type": "display_data"
    }
   ],
   "source": [
    "attention_weights = attention_layer.last_attention_weights\n",
    "mask=(ex_context_tok != 0).numpy()\n",
    "\n",
    "plt.subplot(1, 2, 1)\n",
    "plt.pcolormesh(mask*attention_weights[:, 0, :])\n",
    "plt.title('Attention weights')\n",
    "\n",
    "plt.subplot(1, 2, 2)\n",
    "plt.pcolormesh(mask)\n",
    "plt.title('Mask');\n"
   ]
  },
  {
   "cell_type": "markdown",
   "metadata": {
    "id": "6Eil-C_NN1rp"
   },
   "source": [
    "Because of the small-random initialization the attention weights are initially all close to `1/(sequence_length)`. The model will learn to make these less uniform as training progresses."
   ]
  },
  {
   "cell_type": "markdown",
   "metadata": {
    "id": "aQ638eHN4iCK"
   },
   "source": [
    "### The decoder\n",
    "\n",
    "The decoder's job is to generate predictions for the next token at each location in the target sequence.\n",
    "\n",
    "1. It looks up embeddings for each token in the target sequence.\n",
    "2. It uses an RNN to process the target sequence, and keep track of what it has generated so far.\n",
    "3. It uses RNN output as the \"query\" to the attention layer, when attending to the encoder's output.\n",
    "4. At each location in the output it predicts the next token.\n",
    "\n",
    "When training, the model predicts the next word at each location. So it's important that the information only flows in one direction through the model. The decoder uses a unidirectional (not bidirectional) RNN to process the target sequence.\n",
    "\n",
    "When running inference with this model it produces one word at a time, and those are fed back into the model.\n",
    "\n",
    "<table>\n",
    "<tr>\n",
    "  <td>\n",
    "   <img width=500 src=\"https://tensorflow.org/images/tutorials/transformer/RNN.png\"/>\n",
    "  </td>\n",
    "</tr>\n",
    "<tr>\n",
    "  <th>A unidirectional RNN</th>\n",
    "<tr>\n",
    "</table>"
   ]
  },
  {
   "cell_type": "markdown",
   "metadata": {
    "id": "pZsQJMqNmg_L"
   },
   "source": [
    "Here is the `Decoder` class' initializer. The initializer creates all the necessary layers."
   ]
  },
  {
   "cell_type": "code",
   "execution_count": 28,
   "metadata": {
    "execution": {
     "iopub.execute_input": "2022-12-14T13:53:37.719773Z",
     "iopub.status.busy": "2022-12-14T13:53:37.719277Z",
     "iopub.status.idle": "2022-12-14T13:53:37.725677Z",
     "shell.execute_reply": "2022-12-14T13:53:37.725101Z"
    },
    "id": "erYvHIgAl8kh"
   },
   "outputs": [],
   "source": [
    "class Decoder(tf.keras.layers.Layer):\n",
    "  @classmethod\n",
    "  def add_method(cls, fun):\n",
    "    setattr(cls, fun.__name__, fun)\n",
    "    return fun\n",
    "\n",
    "  def __init__(self, text_processor, units):\n",
    "    super(Decoder, self).__init__()\n",
    "    self.text_processor = text_processor\n",
    "    self.vocab_size = text_processor.vocabulary_size()\n",
    "    self.word_to_id = tf.keras.layers.StringLookup(\n",
    "        vocabulary=text_processor.get_vocabulary(),\n",
    "        mask_token='', oov_token='[UNK]')\n",
    "    self.id_to_word = tf.keras.layers.StringLookup(\n",
    "        vocabulary=text_processor.get_vocabulary(),\n",
    "        mask_token='', oov_token='[UNK]',\n",
    "        invert=True)\n",
    "    self.start_token = self.word_to_id('[START]')\n",
    "    self.end_token = self.word_to_id('[END]')\n",
    "\n",
    "    self.units = units\n",
    "\n",
    "\n",
    "    # 1. The embedding layer converts token IDs to vectors\n",
    "    self.embedding = tf.keras.layers.Embedding(self.vocab_size,\n",
    "                                               units, mask_zero=True)\n",
    "\n",
    "    # 2. The RNN keeps track of what's been generated so far.\n",
    "    self.rnn = tf.keras.layers.GRU(units,\n",
    "                                   return_sequences=True,\n",
    "                                   return_state=True,\n",
    "                                   recurrent_initializer='glorot_uniform')\n",
    "\n",
    "    # 3. The RNN output will be the query for the attention layer.\n",
    "    self.attention = CrossAttention(units)\n",
    "\n",
    "    # 4. This fully connected layer produces the logits for each\n",
    "    # output token.\n",
    "    self.output_layer = tf.keras.layers.Dense(self.vocab_size)"
   ]
  },
  {
   "cell_type": "markdown",
   "metadata": {
    "id": "Sd8-nRNzFR8x"
   },
   "source": [
    "#### Training"
   ]
  },
  {
   "cell_type": "markdown",
   "metadata": {
    "id": "UPnaw583CpnY"
   },
   "source": [
    "Next, the `call` method, takes 3 arguments:\n",
    "\n",
    "* `inputs` -  a `context, x` pair where:\n",
    "  * `context` - is the context from the encoder's output.\n",
    "  * `x` - is the target sequence input.\n",
    "* `state` - Optional, the previous `state` output from the decoder (the internal state of the decoder's RNN). Pass the state from a previous run to continue generating text where you left off.\n",
    "* `return_state` - [Default: False] - Set this to `True` to return the RNN state. "
   ]
  },
  {
   "cell_type": "code",
   "execution_count": 29,
   "metadata": {
    "execution": {
     "iopub.execute_input": "2022-12-14T13:53:37.729209Z",
     "iopub.status.busy": "2022-12-14T13:53:37.728744Z",
     "iopub.status.idle": "2022-12-14T13:53:37.733952Z",
     "shell.execute_reply": "2022-12-14T13:53:37.733371Z"
    },
    "id": "PJOi5btHAPNK"
   },
   "outputs": [],
   "source": [
    "@Decoder.add_method\n",
    "def call(self,\n",
    "         context, x,\n",
    "         state=None,\n",
    "         return_state=False):  \n",
    "  shape_checker = ShapeChecker()\n",
    "  shape_checker(x, 'batch t')\n",
    "  shape_checker(context, 'batch s units')\n",
    "\n",
    "  # 1. Lookup the embeddings\n",
    "  x = self.embedding(x)\n",
    "  shape_checker(x, 'batch t units')\n",
    "\n",
    "  # 2. Process the target sequence.\n",
    "  x, state = self.rnn(x, initial_state=state)\n",
    "  shape_checker(x, 'batch t units')\n",
    "\n",
    "  # 3. Use the RNN output as the query for the attention over the context.\n",
    "  x = self.attention(x, context)\n",
    "  self.last_attention_weights = self.attention.last_attention_weights\n",
    "  shape_checker(x, 'batch t units')\n",
    "  shape_checker(self.last_attention_weights, 'batch t s')\n",
    "\n",
    "  # Step 4. Generate logit predictions for the next token.\n",
    "  logits = self.output_layer(x)\n",
    "  shape_checker(logits, 'batch t target_vocab_size')\n",
    "\n",
    "  if return_state:\n",
    "    return logits, state\n",
    "  else:\n",
    "    return logits"
   ]
  },
  {
   "cell_type": "code",
   "execution_count": 30,
   "metadata": {
    "execution": {
     "iopub.execute_input": "2022-12-14T13:53:37.737178Z",
     "iopub.status.busy": "2022-12-14T13:53:37.736732Z",
     "iopub.status.idle": "2022-12-14T13:53:37.832773Z",
     "shell.execute_reply": "2022-12-14T13:53:37.832171Z"
    },
    "id": "4ZUMbYXIEVeA"
   },
   "outputs": [],
   "source": [
    "decoder = Decoder(target_text_processor, UNITS)"
   ]
  },
  {
   "cell_type": "markdown",
   "metadata": {
    "id": "SFWaI4wqzt4t"
   },
   "source": [
    "In training the decoder will behave like this:\n",
    "\n",
    "Given the context and target tokens, for each target token it predicts the next target token. "
   ]
  },
  {
   "cell_type": "code",
   "execution_count": 31,
   "metadata": {
    "execution": {
     "iopub.execute_input": "2022-12-14T13:53:37.836650Z",
     "iopub.status.busy": "2022-12-14T13:53:37.835861Z",
     "iopub.status.idle": "2022-12-14T13:53:37.896769Z",
     "shell.execute_reply": "2022-12-14T13:53:37.896077Z"
    },
    "id": "5YM-lD7bzx18"
   },
   "outputs": [
    {
     "name": "stdout",
     "output_type": "stream",
     "text": [
      "encoder output shape: (batch, s, units) (64, 21, 256)\n",
      "input target tokens shape: (batch, t) (64, 23)\n",
      "logits shape shape: (batch, target_vocabulary_size) (64, 23, 5000)\n"
     ]
    }
   ],
   "source": [
    "logits = decoder(ex_context, ex_tar_in)\n",
    "\n",
    "print(f'encoder output shape: (batch, s, units) {ex_context.shape}')\n",
    "print(f'input target tokens shape: (batch, t) {ex_tar_in.shape}')\n",
    "print(f'logits shape shape: (batch, target_vocabulary_size) {logits.shape}')"
   ]
  },
  {
   "cell_type": "markdown",
   "metadata": {
    "id": "zhS_tbk7VQkX"
   },
   "source": [
    "#### Inference"
   ]
  },
  {
   "cell_type": "code",
   "execution_count": 32,
   "metadata": {
    "execution": {
     "iopub.execute_input": "2022-12-14T13:53:37.900171Z",
     "iopub.status.busy": "2022-12-14T13:53:37.899703Z",
     "iopub.status.idle": "2022-12-14T13:53:37.903500Z",
     "shell.execute_reply": "2022-12-14T13:53:37.902953Z"
    },
    "id": "SPm12cnIVRQr"
   },
   "outputs": [],
   "source": [
    "@Decoder.add_method\n",
    "def get_initial_state(self, context):\n",
    "  batch_size = tf.shape(context)[0]\n",
    "  start_tokens = tf.fill([batch_size, 1], self.start_token)\n",
    "  done = tf.zeros([batch_size, 1], dtype=tf.bool)\n",
    "  embedded = self.embedding(start_tokens)\n",
    "  return start_tokens, done, self.rnn.get_initial_state(embedded)[0]"
   ]
  },
  {
   "cell_type": "code",
   "execution_count": 33,
   "metadata": {
    "execution": {
     "iopub.execute_input": "2022-12-14T13:53:37.906633Z",
     "iopub.status.busy": "2022-12-14T13:53:37.906194Z",
     "iopub.status.idle": "2022-12-14T13:53:37.910082Z",
     "shell.execute_reply": "2022-12-14T13:53:37.909439Z"
    },
    "id": "TzeOhpBvVS5L"
   },
   "outputs": [],
   "source": [
    "@Decoder.add_method\n",
    "def tokens_to_text(self, tokens):\n",
    "  words = self.id_to_word(tokens)\n",
    "  result = tf.strings.reduce_join(words, axis=-1, separator=' ')\n",
    "  result = tf.strings.regex_replace(result, '^ *\\[START\\] *', '')\n",
    "  result = tf.strings.regex_replace(result, ' *\\[END\\] *$', '')\n",
    "  return result"
   ]
  },
  {
   "cell_type": "code",
   "execution_count": 34,
   "metadata": {
    "execution": {
     "iopub.execute_input": "2022-12-14T13:53:37.913203Z",
     "iopub.status.busy": "2022-12-14T13:53:37.912770Z",
     "iopub.status.idle": "2022-12-14T13:53:37.917262Z",
     "shell.execute_reply": "2022-12-14T13:53:37.916636Z"
    },
    "id": "v6ildnz_V1MA"
   },
   "outputs": [],
   "source": [
    "@Decoder.add_method\n",
    "def get_next_token(self, context, next_token, done, state, temperature = 0.0):\n",
    "  logits, state = self(\n",
    "    context, next_token,\n",
    "    state = state,\n",
    "    return_state=True) \n",
    "  \n",
    "  if temperature == 0.0:\n",
    "    next_token = tf.argmax(logits, axis=-1)\n",
    "  else:\n",
    "    logits = logits[:, -1, :]/temperature\n",
    "    next_token = tf.random.categorical(logits, num_samples=1)\n",
    "\n",
    "  # If a sequence produces an `end_token`, set it `done`\n",
    "  done = done | (next_token == self.end_token)\n",
    "  # Once a sequence is done it only produces 0-padding.\n",
    "  next_token = tf.where(done, tf.constant(0, dtype=tf.int64), next_token)\n",
    "  \n",
    "  return next_token, done, state"
   ]
  },
  {
   "cell_type": "code",
   "execution_count": 35,
   "metadata": {
    "execution": {
     "iopub.execute_input": "2022-12-14T13:53:37.920422Z",
     "iopub.status.busy": "2022-12-14T13:53:37.920046Z",
     "iopub.status.idle": "2022-12-14T13:53:38.166596Z",
     "shell.execute_reply": "2022-12-14T13:53:38.165918Z"
    },
    "id": "SuehagxL-JBZ"
   },
   "outputs": [
    {
     "data": {
      "text/plain": [
       "array([b'businesses option harassment next problem statements airports alzheimers availability stringent',\n",
       "       b'reliable storage signature slavery therefore thinks problematic delay hopefully criticism',\n",
       "       b'located populations coordinating positions regard started accepted works [UNK] websites'],\n",
       "      dtype=object)"
      ]
     },
     "execution_count": 35,
     "metadata": {},
     "output_type": "execute_result"
    }
   ],
   "source": [
    "# Setup the loop variables.\n",
    "next_token, done, state = decoder.get_initial_state(ex_context)\n",
    "tokens = []\n",
    "\n",
    "for n in range(10):\n",
    "  # Run one step.\n",
    "  next_token, done, state = decoder.get_next_token(\n",
    "      ex_context, next_token, done, state, temperature=1.0)\n",
    "  # Add the token to the output.\n",
    "  tokens.append(next_token)\n",
    "\n",
    "# Stack all the tokens together.\n",
    "tokens = tf.concat(tokens, axis=-1) # (batch, t)\n",
    "\n",
    "# Convert the tokens back to a a string\n",
    "result = decoder.tokens_to_text(tokens)\n",
    "result[:3].numpy()"
   ]
  },
  {
   "cell_type": "markdown",
   "metadata": {
    "id": "5ALTdqCMLGSY"
   },
   "source": [
    "Since the model's untrained, it outputs items from the vocabulary almost uniformly at random."
   ]
  },
  {
   "cell_type": "markdown",
   "metadata": {
    "id": "B6xyru86m914"
   },
   "source": [
    "## The model"
   ]
  },
  {
   "cell_type": "code",
   "execution_count": 36,
   "metadata": {
    "execution": {
     "iopub.execute_input": "2022-12-14T13:53:38.170581Z",
     "iopub.status.busy": "2022-12-14T13:53:38.170022Z",
     "iopub.status.idle": "2022-12-14T13:53:38.175086Z",
     "shell.execute_reply": "2022-12-14T13:53:38.174388Z"
    },
    "id": "WWIyuy71TkJT"
   },
   "outputs": [],
   "source": [
    "class Translator(tf.keras.Model):\n",
    "  @classmethod\n",
    "  def add_method(cls, fun):\n",
    "    setattr(cls, fun.__name__, fun)\n",
    "    return fun\n",
    "\n",
    "  def __init__(self, units,\n",
    "               context_text_processor,\n",
    "               target_text_processor):\n",
    "    super().__init__()\n",
    "    # Build the encoder and decoder\n",
    "    encoder = Encoder(context_text_processor, units)\n",
    "    decoder = Decoder(target_text_processor, units)\n",
    "\n",
    "    self.encoder = encoder\n",
    "    self.decoder = decoder\n",
    "\n",
    "  def call(self, inputs):\n",
    "    context, x = inputs\n",
    "    context = self.encoder(context)\n",
    "    logits = self.decoder(context, x)\n",
    "    try:\n",
    "      # Delete the keras mask, so keras doesn't scale the loss+accuracy. \n",
    "      del logits._keras_mask\n",
    "    except AttributeError:\n",
    "      pass\n",
    "\n",
    "    return logits"
   ]
  },
  {
   "cell_type": "markdown",
   "metadata": {
    "id": "5rPi0FkS2iA5"
   },
   "source": [
    "During training the model will be used like this:"
   ]
  },
  {
   "cell_type": "code",
   "execution_count": 37,
   "metadata": {
    "execution": {
     "iopub.execute_input": "2022-12-14T13:53:38.178812Z",
     "iopub.status.busy": "2022-12-14T13:53:38.178363Z",
     "iopub.status.idle": "2022-12-14T13:53:38.359380Z",
     "shell.execute_reply": "2022-12-14T13:53:38.358700Z"
    },
    "id": "8vhjTh84K6Mg"
   },
   "outputs": [
    {
     "name": "stdout",
     "output_type": "stream",
     "text": [
      "Context tokens, shape: (batch, s, units) (64, 21)\n",
      "Target tokens, shape: (batch, t) (64, 23)\n",
      "logits, shape: (batch, t, target_vocabulary_size) (64, 23, 5000)\n"
     ]
    }
   ],
   "source": [
    "model = Translator(UNITS, context_text_processor, target_text_processor)\n",
    "\n",
    "logits = model((ex_context_tok, ex_tar_in))\n",
    "\n",
    "print(f'Context tokens, shape: (batch, s, units) {ex_context_tok.shape}')\n",
    "print(f'Target tokens, shape: (batch, t) {ex_tar_in.shape}')\n",
    "print(f'logits, shape: (batch, t, target_vocabulary_size) {logits.shape}')"
   ]
  },
  {
   "cell_type": "markdown",
   "metadata": {
    "id": "_ch_71VbIRfK"
   },
   "source": [
    "### Train"
   ]
  },
  {
   "cell_type": "code",
   "execution_count": 38,
   "metadata": {
    "execution": {
     "iopub.execute_input": "2022-12-14T13:53:38.362806Z",
     "iopub.status.busy": "2022-12-14T13:53:38.362542Z",
     "iopub.status.idle": "2022-12-14T13:53:38.366866Z",
     "shell.execute_reply": "2022-12-14T13:53:38.366216Z"
    },
    "id": "WmTHr5iV3jFr"
   },
   "outputs": [],
   "source": [
    "def masked_loss(y_true, y_pred):\n",
    "    # Calculate the loss for each item in the batch.\n",
    "    loss_fn = tf.keras.losses.SparseCategoricalCrossentropy(\n",
    "        from_logits=True, reduction='none')\n",
    "    loss = loss_fn(y_true, y_pred)\n",
    "\n",
    "    # Mask off the losses on padding.\n",
    "    mask = tf.cast(y_true != 0, loss.dtype)\n",
    "    loss *= mask\n",
    "\n",
    "    # Return the total.\n",
    "    return tf.reduce_sum(loss)/tf.reduce_sum(mask)"
   ]
  },
  {
   "cell_type": "code",
   "execution_count": 39,
   "metadata": {
    "execution": {
     "iopub.execute_input": "2022-12-14T13:53:38.370186Z",
     "iopub.status.busy": "2022-12-14T13:53:38.369665Z",
     "iopub.status.idle": "2022-12-14T13:53:38.373568Z",
     "shell.execute_reply": "2022-12-14T13:53:38.372969Z"
    },
    "id": "nRB1CTmQWOIL"
   },
   "outputs": [],
   "source": [
    "def masked_acc(y_true, y_pred):\n",
    "    # Calculate the loss for each item in the batch.\n",
    "    y_pred = tf.argmax(y_pred, axis=-1)\n",
    "    y_pred = tf.cast(y_pred, y_true.dtype)\n",
    "    \n",
    "    match = tf.cast(y_true == y_pred, tf.float32)\n",
    "    mask = tf.cast(y_true != 0, tf.float32)\n",
    "    \n",
    "    return tf.reduce_sum(match)/tf.reduce_sum(mask)"
   ]
  },
  {
   "cell_type": "markdown",
   "metadata": {
    "id": "f32GuAhw2nXm"
   },
   "source": [
    "Configure the model for training:"
   ]
  },
  {
   "cell_type": "code",
   "execution_count": 40,
   "metadata": {
    "execution": {
     "iopub.execute_input": "2022-12-14T13:53:38.376951Z",
     "iopub.status.busy": "2022-12-14T13:53:38.376399Z",
     "iopub.status.idle": "2022-12-14T13:53:38.405030Z",
     "shell.execute_reply": "2022-12-14T13:53:38.404311Z"
    },
    "id": "9g0DRRvm3l9X"
   },
   "outputs": [],
   "source": [
    "model.compile(optimizer='adam',\n",
    "              loss=masked_loss, \n",
    "              metrics=[masked_acc, masked_loss])"
   ]
  },
  {
   "cell_type": "markdown",
   "metadata": {
    "id": "5DWLI3pssjnx"
   },
   "source": [
    "The model is randomly initialized, and should give roughly uniform output probabilities. So it's easy to predict what the initial values of the metrics should be:"
   ]
  },
  {
   "cell_type": "code",
   "execution_count": 41,
   "metadata": {
    "execution": {
     "iopub.execute_input": "2022-12-14T13:53:38.408947Z",
     "iopub.status.busy": "2022-12-14T13:53:38.408411Z",
     "iopub.status.idle": "2022-12-14T13:53:38.414979Z",
     "shell.execute_reply": "2022-12-14T13:53:38.414386Z"
    },
    "id": "BuP3_LFENMJG"
   },
   "outputs": [
    {
     "data": {
      "text/plain": [
       "{'expected_loss': 8.517193, 'expected_acc': 0.0002}"
      ]
     },
     "execution_count": 41,
     "metadata": {},
     "output_type": "execute_result"
    }
   ],
   "source": [
    "vocab_size = 1.0 * target_text_processor.vocabulary_size()\n",
    "\n",
    "{\"expected_loss\": tf.math.log(vocab_size).numpy(),\n",
    " \"expected_acc\": 1/vocab_size}"
   ]
  },
  {
   "cell_type": "markdown",
   "metadata": {
    "id": "frVba49Usd0Z"
   },
   "source": [
    "That should roughly match the values returned by running a few steps of evaluation:"
   ]
  },
  {
   "cell_type": "code",
   "execution_count": 42,
   "metadata": {
    "execution": {
     "iopub.execute_input": "2022-12-14T13:53:38.418259Z",
     "iopub.status.busy": "2022-12-14T13:53:38.417876Z",
     "iopub.status.idle": "2022-12-14T13:53:45.431110Z",
     "shell.execute_reply": "2022-12-14T13:53:45.430452Z"
    },
    "id": "8rJITfxEsHKR"
   },
   "outputs": [
    {
     "name": "stdout",
     "output_type": "stream",
     "text": [
      "20/20 [==============================] - 11s 169ms/step - loss: 8.5254 - masked_acc: 2.8584e-04 - masked_loss: 8.5254\n"
     ]
    },
    {
     "data": {
      "text/plain": [
       "{'loss': 8.525419235229492,\n",
       " 'masked_acc': 0.0002858423686120659,\n",
       " 'masked_loss': 8.525419235229492}"
      ]
     },
     "execution_count": 42,
     "metadata": {},
     "output_type": "execute_result"
    }
   ],
   "source": [
    "model.evaluate(val_ds, steps=20, return_dict=True)"
   ]
  },
  {
   "cell_type": "code",
   "execution_count": 43,
   "metadata": {
    "execution": {
     "iopub.execute_input": "2022-12-14T13:53:45.434651Z",
     "iopub.status.busy": "2022-12-14T13:53:45.433998Z",
     "iopub.status.idle": "2022-12-14T13:55:54.435494Z",
     "shell.execute_reply": "2022-12-14T13:55:54.434762Z"
    },
    "id": "BQd_esVVoSf3"
   },
   "outputs": [
    {
     "name": "stdout",
     "output_type": "stream",
     "text": [
      "Epoch 1/100\n",
      "100/100 [==============================] - 45s 358ms/step - loss: 5.4997 - masked_acc: 0.1955 - masked_loss: 5.4997 - val_loss: 4.4608 - val_masked_acc: 0.3184 - val_masked_loss: 4.4608\n",
      "Epoch 2/100\n",
      "100/100 [==============================] - 45s 451ms/step - loss: 3.8844 - masked_acc: 0.4040 - masked_loss: 3.8844 - val_loss: 3.1898 - val_masked_acc: 0.5087 - val_masked_loss: 3.1898\n",
      "Epoch 3/100\n",
      "100/100 [==============================] - 41s 412ms/step - loss: 2.4499 - masked_acc: 0.6118 - masked_loss: 2.4499 - val_loss: 1.9495 - val_masked_acc: 0.6642 - val_masked_loss: 1.9495\n",
      "Epoch 4/100\n",
      "100/100 [==============================] - 42s 415ms/step - loss: 1.5711 - masked_acc: 0.7251 - masked_loss: 1.5711 - val_loss: 1.1638 - val_masked_acc: 0.7765 - val_masked_loss: 1.1638\n",
      "Epoch 5/100\n",
      "100/100 [==============================] - 41s 409ms/step - loss: 1.0089 - masked_acc: 0.8023 - masked_loss: 1.0089 - val_loss: 0.8395 - val_masked_acc: 0.8245 - val_masked_loss: 0.8395\n",
      "Epoch 6/100\n",
      "100/100 [==============================] - 41s 415ms/step - loss: 0.8171 - masked_acc: 0.8242 - masked_loss: 0.8171 - val_loss: 0.9751 - val_masked_acc: 0.7929 - val_masked_loss: 0.9751\n",
      "Epoch 7/100\n",
      "100/100 [==============================] - 45s 455ms/step - loss: 0.7713 - masked_acc: 0.8263 - masked_loss: 0.7713 - val_loss: 0.6106 - val_masked_acc: 0.8498 - val_masked_loss: 0.6106\n",
      "Epoch 8/100\n",
      "100/100 [==============================] - 45s 446ms/step - loss: 0.5813 - masked_acc: 0.8554 - masked_loss: 0.5813 - val_loss: 0.5408 - val_masked_acc: 0.8616 - val_masked_loss: 0.5408\n",
      "Epoch 9/100\n",
      "100/100 [==============================] - 48s 478ms/step - loss: 0.6798 - masked_acc: 0.8383 - masked_loss: 0.6798 - val_loss: 0.5441 - val_masked_acc: 0.8646 - val_masked_loss: 0.5441\n",
      "Epoch 10/100\n",
      "100/100 [==============================] - 48s 484ms/step - loss: 0.5082 - masked_acc: 0.8653 - masked_loss: 0.5082 - val_loss: 0.5133 - val_masked_acc: 0.8668 - val_masked_loss: 0.5133\n",
      "Epoch 11/100\n",
      "100/100 [==============================] - 45s 451ms/step - loss: 0.5051 - masked_acc: 0.8678 - masked_loss: 0.5051 - val_loss: 0.4649 - val_masked_acc: 0.8708 - val_masked_loss: 0.4649\n",
      "Epoch 12/100\n",
      "100/100 [==============================] - 45s 455ms/step - loss: 0.4628 - masked_acc: 0.8771 - masked_loss: 0.4630 - val_loss: 0.5281 - val_masked_acc: 0.8698 - val_masked_loss: 0.5281\n",
      "Epoch 13/100\n",
      "100/100 [==============================] - 47s 468ms/step - loss: 0.4120 - masked_acc: 0.8864 - masked_loss: 0.4120 - val_loss: 0.4458 - val_masked_acc: 0.8800 - val_masked_loss: 0.4458\n",
      "Epoch 14/100\n",
      "100/100 [==============================] - 42s 424ms/step - loss: 0.4190 - masked_acc: 0.8852 - masked_loss: 0.4190 - val_loss: 0.4990 - val_masked_acc: 0.8689 - val_masked_loss: 0.4990\n",
      "Epoch 15/100\n",
      "100/100 [==============================] - 48s 478ms/step - loss: 0.4304 - masked_acc: 0.8841 - masked_loss: 0.4304 - val_loss: 0.4227 - val_masked_acc: 0.8851 - val_masked_loss: 0.4227\n",
      "Epoch 16/100\n",
      "100/100 [==============================] - 48s 480ms/step - loss: 0.4085 - masked_acc: 0.8872 - masked_loss: 0.4085 - val_loss: 0.4450 - val_masked_acc: 0.8827 - val_masked_loss: 0.4450\n",
      "Epoch 17/100\n",
      "100/100 [==============================] - 44s 440ms/step - loss: 0.4223 - masked_acc: 0.8868 - masked_loss: 0.4223 - val_loss: 0.4639 - val_masked_acc: 0.8801 - val_masked_loss: 0.4639\n",
      "Epoch 18/100\n",
      "100/100 [==============================] - 44s 438ms/step - loss: 0.3923 - masked_acc: 0.8900 - masked_loss: 0.3923 - val_loss: 0.4286 - val_masked_acc: 0.8857 - val_masked_loss: 0.4286\n"
     ]
    }
   ],
   "source": [
    "history = model.fit(\n",
    "    train_ds.repeat(), \n",
    "    epochs=100,\n",
    "    steps_per_epoch = 100,\n",
    "    validation_data=val_ds,\n",
    "    validation_steps = 20,\n",
    "    callbacks=[\n",
    "        tf.keras.callbacks.EarlyStopping(patience=3)])"
   ]
  },
  {
   "cell_type": "code",
   "execution_count": 44,
   "metadata": {
    "execution": {
     "iopub.execute_input": "2022-12-14T13:55:54.439314Z",
     "iopub.status.busy": "2022-12-14T13:55:54.438809Z",
     "iopub.status.idle": "2022-12-14T13:55:54.597838Z",
     "shell.execute_reply": "2022-12-14T13:55:54.596991Z"
    },
    "id": "38rLdlmtQHCm"
   },
   "outputs": [
    {
     "data": {
      "text/plain": [
       "<matplotlib.legend.Legend at 0x7f89687aae20>"
      ]
     },
     "execution_count": 44,
     "metadata": {},
     "output_type": "execute_result"
    },
    {
     "data": {
      "image/png": "[encoded data removed]",
      "text/plain": [
       "<Figure size 640x480 with 1 Axes>"
      ]
     },
     "metadata": {},
     "output_type": "display_data"
    }
   ],
   "source": [
    "plt.plot(history.history['loss'], label='loss')\n",
    "plt.plot(history.history['val_loss'], label='val_loss')\n",
    "plt.ylim([0, max(plt.ylim())])\n",
    "plt.xlabel('Epoch #')\n",
    "plt.ylabel('CE/token')\n",
    "plt.legend()"
   ]
  },
  {
   "cell_type": "code",
   "execution_count": 45,
   "metadata": {
    "execution": {
     "iopub.execute_input": "2022-12-14T13:55:54.601744Z",
     "iopub.status.busy": "2022-12-14T13:55:54.601260Z",
     "iopub.status.idle": "2022-12-14T13:55:54.758966Z",
     "shell.execute_reply": "2022-12-14T13:55:54.758112Z"
    },
    "id": "KkhXRASNG80_"
   },
   "outputs": [
    {
     "data": {
      "text/plain": [
       "<matplotlib.legend.Legend at 0x7f89468be7f0>"
      ]
     },
     "execution_count": 45,
     "metadata": {},
     "output_type": "execute_result"
    },
    {
     "data": {
      "image/png": "[encoded data removed]",
      "text/plain": [
       "<Figure size 640x480 with 1 Axes>"
      ]
     },
     "metadata": {},
     "output_type": "display_data"
    }
   ],
   "source": [
    "plt.plot(history.history['masked_acc'], label='accuracy')\n",
    "plt.plot(history.history['val_masked_acc'], label='val_accuracy')\n",
    "plt.ylim([0, max(plt.ylim())])\n",
    "plt.xlabel('Epoch #')\n",
    "plt.ylabel('CE/token')\n",
    "plt.legend()"
   ]
  },
  {
   "cell_type": "markdown",
   "metadata": {
    "id": "mU3Ce8M6I3rz"
   },
   "source": [
    "### Translate\n",
    "\n",
    "Now that the model is trained, implement a function to execute the full `text => text` translation. This code is basically identical to the [inference example](#inference) in the [decoder section](#the_decoder), but this also captures the attention weights."
   ]
  },
  {
   "cell_type": "code",
   "execution_count": 46,
   "metadata": {
    "execution": {
     "iopub.execute_input": "2022-12-14T13:55:54.762645Z",
     "iopub.status.busy": "2022-12-14T13:55:54.762120Z",
     "iopub.status.idle": "2022-12-14T13:55:54.768161Z",
     "shell.execute_reply": "2022-12-14T13:55:54.767292Z"
    },
    "id": "mmgYPCVgEwp_"
   },
   "outputs": [],
   "source": [
    "#@title\n",
    "@Translator.add_method\n",
    "def translate(self,\n",
    "              texts, *,\n",
    "              max_length=50,\n",
    "              temperature=0.0):\n",
    "  # Process the input texts\n",
    "  context = self.encoder.convert_input(texts)\n",
    "  batch_size = tf.shape(texts)[0]\n",
    "\n",
    "  # Setup the loop inputs\n",
    "  tokens = []\n",
    "  attention_weights = []\n",
    "  next_token, done, state = self.decoder.get_initial_state(context)\n",
    "\n",
    "  for _ in range(max_length):\n",
    "    # Generate the next token\n",
    "    next_token, done, state = self.decoder.get_next_token(\n",
    "        context, next_token, done,  state, temperature)\n",
    "        \n",
    "    # Collect the generated tokens\n",
    "    tokens.append(next_token)\n",
    "    attention_weights.append(self.decoder.last_attention_weights)\n",
    "    \n",
    "    if tf.executing_eagerly() and tf.reduce_all(done):\n",
    "      break\n",
    "\n",
    "  # Stack the lists of tokens and attention weights.\n",
    "  tokens = tf.concat(tokens, axis=-1)   # t*[(batch 1)] -> (batch, t)\n",
    "  self.last_attention_weights = tf.concat(attention_weights, axis=1)  # t*[(batch 1 s)] -> (batch, t s)\n",
    "\n",
    "  result = self.decoder.tokens_to_text(tokens)\n",
    "  return result"
   ]
  },
  {
   "cell_type": "code",
   "execution_count": 47,
   "metadata": {
    "execution": {
     "iopub.execute_input": "2022-12-14T13:55:54.771943Z",
     "iopub.status.busy": "2022-12-14T13:55:54.771432Z",
     "iopub.status.idle": "2022-12-14T13:55:54.949359Z",
     "shell.execute_reply": "2022-12-14T13:55:54.948750Z"
    },
    "id": "E5hqvbR5FUCD"
   },
   "outputs": [
    {
     "data": {
      "text/plain": [
       "'this is why this report is [UNK] mainly to them . '"
      ]
     },
     "execution_count": 47,
     "metadata": {},
     "output_type": "execute_result"
    }
   ],
   "source": [
    "result = model.translate(['this be why this report be desc-devoted desc-mainly to x-y .']) \n",
    "result[0].numpy().decode()"
   ]
  },
  {
   "cell_type": "markdown",
   "metadata": {
    "id": "wQ1iU63cVgfs"
   },
   "source": [
    "Use that to generate the attention plot:"
   ]
  },
  {
   "cell_type": "code",
   "execution_count": 48,
   "metadata": {
    "execution": {
     "iopub.execute_input": "2022-12-14T13:55:54.952758Z",
     "iopub.status.busy": "2022-12-14T13:55:54.952234Z",
     "iopub.status.idle": "2022-12-14T13:55:54.958423Z",
     "shell.execute_reply": "2022-12-14T13:55:54.957753Z"
    },
    "id": "s5hQWlbN3jGF"
   },
   "outputs": [],
   "source": [
    "#@title\n",
    "@Translator.add_method\n",
    "def plot_attention(self, text, **kwargs):\n",
    "  assert isinstance(text, str)\n",
    "  output = self.translate([text], **kwargs)\n",
    "  output = output[0].numpy().decode()\n",
    "\n",
    "  attention = self.last_attention_weights[0]\n",
    "\n",
    "  context = tf_lower_and_split_punct(text)\n",
    "  context = context.numpy().decode().split()\n",
    "\n",
    "  output = tf_lower_and_split_punct(output)\n",
    "  output = output.numpy().decode().split()[1:]\n",
    "\n",
    "  fig = plt.figure(figsize=(10, 10))\n",
    "  ax = fig.add_subplot(1, 1, 1)\n",
    "\n",
    "  ax.matshow(attention, cmap='viridis', vmin=0.0)\n",
    "\n",
    "  fontdict = {'fontsize': 14}\n",
    "\n",
    "  ax.set_xticklabels([''] + context, fontdict=fontdict, rotation=90)\n",
    "  ax.set_yticklabels([''] + output, fontdict=fontdict)\n",
    "\n",
    "  ax.xaxis.set_major_locator(ticker.MultipleLocator(1))\n",
    "  ax.yaxis.set_major_locator(ticker.MultipleLocator(1))\n",
    "\n",
    "  ax.set_xlabel('Input text')\n",
    "  ax.set_ylabel('Output text')"
   ]
  },
  {
   "cell_type": "code",
   "execution_count": 49,
   "metadata": {
    "execution": {
     "iopub.execute_input": "2022-12-14T13:55:54.961723Z",
     "iopub.status.busy": "2022-12-14T13:55:54.961266Z",
     "iopub.status.idle": "2022-12-14T13:55:55.368749Z",
     "shell.execute_reply": "2022-12-14T13:55:55.367953Z"
    },
    "id": "rrGawQv2eiA4"
   },
   "outputs": [
    {
     "name": "stderr",
     "output_type": "stream",
     "text": [
      "/var/folders/lk/qj1rg14j04l6s3mkk78vj3dw0000gn/T/ipykernel_13481/3355722706.py:23: UserWarning: FixedFormatter should only be used together with FixedLocator\n",
      "  ax.set_xticklabels([''] + context, fontdict=fontdict, rotation=90)\n",
      "/var/folders/lk/qj1rg14j04l6s3mkk78vj3dw0000gn/T/ipykernel_13481/3355722706.py:24: UserWarning: FixedFormatter should only be used together with FixedLocator\n",
      "  ax.set_yticklabels([''] + output, fontdict=fontdict)\n"
     ]
    },
    {
     "data": {
      "image/png": "[encoded data removed]",
      "text/plain": [
       "<Figure size 1000x1000 with 1 Axes>"
      ]
     },
     "metadata": {},
     "output_type": "display_data"
    }
   ],
   "source": [
    "model.plot_attention('this be why this report be desc-devoted desc-mainly to x-y .') "
   ]
  },
  {
   "cell_type": "markdown",
   "metadata": {
    "id": "JHBdOf9duumm"
   },
   "source": [
    "Translate a few more sentences and plot them:"
   ]
  },
  {
   "cell_type": "markdown",
   "metadata": {
    "id": "rA3xI3NzrRJt"
   },
   "source": [
    "The short sentences often work well, but if the input is too long the model literally loses focus and stops providing reasonable predictions. There are two main reasons for this:\n",
    "\n",
    "1. The model was trained with teacher-forcing feeding the correct token at each step, regardless of the model's predictions. The model could be made more robust if it were sometimes fed its own predictions.\n",
    "2. The model only has access to its previous output through the RNN state. If the RNN state looses track of where it was in the context sequence there's no way for the model to recover. [Transformers](transformer.ipynb) improve on this by letting the decoder look at what it has output so far."
   ]
  },
  {
   "cell_type": "markdown",
   "metadata": {
    "id": "X4POAuUgLxLv"
   },
   "source": [
    "### Export"
   ]
  },
  {
   "cell_type": "code",
   "execution_count": 50,
   "metadata": {
    "execution": {
     "iopub.execute_input": "2022-12-14T13:55:58.079687Z",
     "iopub.status.busy": "2022-12-14T13:55:58.078988Z",
     "iopub.status.idle": "2022-12-14T13:55:58.083501Z",
     "shell.execute_reply": "2022-12-14T13:55:58.082908Z"
    },
    "id": "fNhGwQaVKIAy"
   },
   "outputs": [],
   "source": [
    "class Export(tf.Module):\n",
    "  def __init__(self, model):\n",
    "    self.model = model\n",
    "\n",
    "  @tf.function(input_signature=[tf.TensorSpec(dtype=tf.string, shape=[None])])\n",
    "  def translate(self, inputs):\n",
    "    return self.model.translate(inputs)"
   ]
  },
  {
   "cell_type": "code",
   "execution_count": 51,
   "metadata": {
    "execution": {
     "iopub.execute_input": "2022-12-14T13:55:58.086412Z",
     "iopub.status.busy": "2022-12-14T13:55:58.086180Z",
     "iopub.status.idle": "2022-12-14T13:55:58.089508Z",
     "shell.execute_reply": "2022-12-14T13:55:58.088833Z"
    },
    "id": "5Tjqs9FzNwW5"
   },
   "outputs": [],
   "source": [
    "export = Export(model)"
   ]
  },
  {
   "cell_type": "code",
   "execution_count": 52,
   "metadata": {
    "execution": {
     "iopub.execute_input": "2022-12-14T13:56:58.492688Z",
     "iopub.status.busy": "2022-12-14T13:56:58.492102Z",
     "iopub.status.idle": "2022-12-14T13:58:20.957361Z",
     "shell.execute_reply": "2022-12-14T13:58:20.956463Z"
    },
    "id": "OyvxT5V0_X5B"
   },
   "outputs": [
    {
     "name": "stderr",
     "output_type": "stream",
     "text": [
      "WARNING:absl:Found untraced functions such as _update_step_xla, embedding_3_layer_call_fn, embedding_3_layer_call_and_return_conditional_losses, embedding_4_layer_call_fn, embedding_4_layer_call_and_return_conditional_losses while saving (showing 5 of 33). These functions will not be directly callable after loading.\n"
     ]
    },
    {
     "name": "stdout",
     "output_type": "stream",
     "text": [
      "INFO:tensorflow:Assets written to: translator-augmented/assets\n"
     ]
    },
    {
     "name": "stderr",
     "output_type": "stream",
     "text": [
      "INFO:tensorflow:Assets written to: translator-augmented/assets\n"
     ]
    },
    {
     "name": "stdout",
     "output_type": "stream",
     "text": [
      "CPU times: user 1min 19s, sys: 3.97 s, total: 1min 22s\n",
      "Wall time: 1min 25s\n"
     ]
    }
   ],
   "source": [
    "%%time\n",
    "tf.saved_model.save(export, 'translator-augmented',\n",
    "                    signatures={'serving_default': export.translate})"
   ]
  },
  {
   "cell_type": "markdown",
   "metadata": {},
   "source": [
    "# Load Model"
   ]
  },
  {
   "cell_type": "code",
   "execution_count": 53,
   "metadata": {
    "execution": {
     "iopub.execute_input": "2022-12-14T13:58:20.963150Z",
     "iopub.status.busy": "2022-12-14T13:58:20.962332Z",
     "iopub.status.idle": "2022-12-14T13:59:15.828295Z",
     "shell.execute_reply": "2022-12-14T13:59:15.827578Z"
    },
    "id": "-I0j3i3ekOba"
   },
   "outputs": [
    {
     "name": "stdout",
     "output_type": "stream",
     "text": [
      "CPU times: user 3 µs, sys: 1 µs, total: 4 µs\n",
      "Wall time: 6.91 µs\n"
     ]
    }
   ],
   "source": [
    "%%time\n",
    "# model = tf.saved_model.load('translator-augmented')"
   ]
  },
  {
   "cell_type": "markdown",
   "metadata": {},
   "source": [
    "# Evaluation"
   ]
  },
  {
   "cell_type": "code",
   "execution_count": 54,
   "metadata": {},
   "outputs": [
    {
     "name": "stdout",
     "output_type": "stream",
     "text": [
      "Requirement already satisfied: sacrebleu in /Users/juicydoggo/opt/anaconda3/lib/python3.8/site-packages (2.3.1)\n",
      "Requirement already satisfied: lxml in /Users/juicydoggo/opt/anaconda3/lib/python3.8/site-packages (from sacrebleu) (4.9.1)\n",
      "Requirement already satisfied: regex in /Users/juicydoggo/opt/anaconda3/lib/python3.8/site-packages (from sacrebleu) (2022.7.9)\n",
      "Requirement already satisfied: tabulate>=0.8.9 in /Users/juicydoggo/opt/anaconda3/lib/python3.8/site-packages (from sacrebleu) (0.9.0)\n",
      "Requirement already satisfied: numpy>=1.17 in /Users/juicydoggo/opt/anaconda3/lib/python3.8/site-packages (from sacrebleu) (1.21.2)\n",
      "Requirement already satisfied: colorama in /Users/juicydoggo/opt/anaconda3/lib/python3.8/site-packages (from sacrebleu) (0.4.5)\n",
      "Requirement already satisfied: portalocker in /Users/juicydoggo/opt/anaconda3/lib/python3.8/site-packages (from sacrebleu) (2.6.0)\n"
     ]
    }
   ],
   "source": [
    "!pip install sacrebleu"
   ]
  },
  {
   "cell_type": "code",
   "execution_count": 55,
   "metadata": {},
   "outputs": [
    {
     "name": "stderr",
     "output_type": "stream",
     "text": [
      "/var/folders/lk/qj1rg14j04l6s3mkk78vj3dw0000gn/T/ipykernel_13481/299819152.py:3: FutureWarning: load_metric is deprecated and will be removed in the next major version of datasets. Use 'evaluate.load' instead, from the new library 🤗 Evaluate: https://huggingface.co/docs/evaluate\n",
      "  metric = datasets.load_metric('sacrebleu')\n"
     ]
    },
    {
     "name": "stdout",
     "output_type": "stream",
     "text": [
      "Metric(name: \"sacrebleu\", features: {'predictions': Value(dtype='string', id='sequence'), 'references': Sequence(feature=Value(dtype='string', id='sequence'), length=-1, id='references')}, usage: \"\"\"\n",
      "Produces BLEU scores along with its sufficient statistics\n",
      "from a source against one or more references.\n",
      "\n",
      "Args:\n",
      "    predictions (`list` of `str`): list of translations to score. Each translation should be tokenized into a list of tokens.\n",
      "    references (`list` of `list` of `str`): A list of lists of references. The contents of the first sub-list are the references for the first prediction, the contents of the second sub-list are for the second prediction, etc. Note that there must be the same number of references for each prediction (i.e. all sub-lists must be of the same length).\n",
      "    smooth_method (`str`): The smoothing method to use, defaults to `'exp'`. Possible values are:\n",
      "        - `'none'`: no smoothing\n",
      "        - `'floor'`: increment zero counts\n",
      "        - `'add-k'`: increment num/denom by k for n>1\n",
      "        - `'exp'`: exponential decay\n",
      "    smooth_value (`float`): The smoothing value. Only valid when `smooth_method='floor'` (in which case `smooth_value` defaults to `0.1`) or `smooth_method='add-k'` (in which case `smooth_value` defaults to `1`).\n",
      "    tokenize (`str`): Tokenization method to use for BLEU. If not provided, defaults to `'zh'` for Chinese, `'ja-mecab'` for Japanese and `'13a'` (mteval) otherwise. Possible values are:\n",
      "        - `'none'`: No tokenization.\n",
      "        - `'zh'`: Chinese tokenization.\n",
      "        - `'13a'`: mimics the `mteval-v13a` script from Moses.\n",
      "        - `'intl'`: International tokenization, mimics the `mteval-v14` script from Moses\n",
      "        - `'char'`: Language-agnostic character-level tokenization.\n",
      "        - `'ja-mecab'`: Japanese tokenization. Uses the [MeCab tokenizer](https://pypi.org/project/mecab-python3).\n",
      "    lowercase (`bool`): If `True`, lowercases the input, enabling case-insensitivity. Defaults to `False`.\n",
      "    force (`bool`): If `True`, insists that your tokenized input is actually detokenized. Defaults to `False`.\n",
      "    use_effective_order (`bool`): If `True`, stops including n-gram orders for which precision is 0. This should be `True`, if sentence-level BLEU will be computed. Defaults to `False`.\n",
      "\n",
      "Returns:\n",
      "    'score': BLEU score,\n",
      "    'counts': Counts,\n",
      "    'totals': Totals,\n",
      "    'precisions': Precisions,\n",
      "    'bp': Brevity penalty,\n",
      "    'sys_len': predictions length,\n",
      "    'ref_len': reference length,\n",
      "\n",
      "Examples:\n",
      "\n",
      "    Example 1:\n",
      "        >>> predictions = [\"hello there general kenobi\", \"foo bar foobar\"]\n",
      "        >>> references = [[\"hello there general kenobi\", \"hello there !\"], [\"foo bar foobar\", \"foo bar foobar\"]]\n",
      "        >>> sacrebleu = datasets.load_metric(\"sacrebleu\")\n",
      "        >>> results = sacrebleu.compute(predictions=predictions, references=references)\n",
      "        >>> print(list(results.keys()))\n",
      "        ['score', 'counts', 'totals', 'precisions', 'bp', 'sys_len', 'ref_len']\n",
      "        >>> print(round(results[\"score\"], 1))\n",
      "        100.0\n",
      "\n",
      "    Example 2:\n",
      "        >>> predictions = [\"hello there general kenobi\",\n",
      "        ...                 \"on our way to ankh morpork\"]\n",
      "        >>> references = [[\"hello there general kenobi\", \"hello there !\"],\n",
      "        ...                 [\"goodbye ankh morpork\", \"ankh morpork\"]]\n",
      "        >>> sacrebleu = datasets.load_metric(\"sacrebleu\")\n",
      "        >>> results = sacrebleu.compute(predictions=predictions,\n",
      "        ...                             references=references)\n",
      "        >>> print(list(results.keys()))\n",
      "        ['score', 'counts', 'totals', 'precisions', 'bp', 'sys_len', 'ref_len']\n",
      "        >>> print(round(results[\"score\"], 1))\n",
      "        39.8\n",
      "\"\"\", stored examples: 0)\n"
     ]
    }
   ],
   "source": [
    "import datasets\n",
    "\n",
    "metric = datasets.load_metric('sacrebleu')\n",
    "print(metric)\n"
   ]
  },
  {
   "cell_type": "markdown",
   "metadata": {},
   "source": [
    "## Compute the accuracy on the validation dataset"
   ]
  },
  {
   "cell_type": "code",
   "execution_count": 56,
   "metadata": {},
   "outputs": [],
   "source": [
    "valid_input=context_raw[~is_train].tolist()\n",
    "valid_groundtruth=target_raw[~is_train].tolist()"
   ]
  },
  {
   "cell_type": "code",
   "execution_count": 57,
   "metadata": {},
   "outputs": [],
   "source": [
    "valid_input=[i.lower() for i in valid_input]"
   ]
  },
  {
   "cell_type": "code",
   "execution_count": 58,
   "metadata": {},
   "outputs": [
    {
     "name": "stderr",
     "output_type": "stream",
     "text": [
      "100%|███████████████████████████████████| 18516/18516 [00:03<00:00, 5154.17it/s]\n"
     ]
    }
   ],
   "source": [
    "from tqdm import tqdm\n",
    "model_predictions=[]\n",
    "predict=model.translate(valid_input)\n",
    "for i in tqdm(range(len(predict))):\n",
    "    model_predictions.append(predict[i].numpy().decode())\n",
    "    valid_groundtruth[i]=[valid_groundtruth[i]]\n",
    "metric.add_batch(predictions=model_predictions, references=valid_groundtruth)"
   ]
  },
  {
   "cell_type": "code",
   "execution_count": 59,
   "metadata": {},
   "outputs": [],
   "source": [
    "final_score = metric.compute()"
   ]
  },
  {
   "cell_type": "code",
   "execution_count": 60,
   "metadata": {
    "scrolled": true
   },
   "outputs": [
    {
     "name": "stdout",
     "output_type": "stream",
     "text": [
      "{'score': 62.91224941543501, 'counts': [208532, 160758, 125531, 97470], 'totals': [254762, 236247, 217906, 199644], 'precisions': [81.85365164349471, 68.04657836924913, 57.60786761264031, 48.82190298731742], 'bp': 1.0, 'sys_len': 254762, 'ref_len': 245332}\n"
     ]
    }
   ],
   "source": [
    "print(final_score)"
   ]
  },
  {
   "cell_type": "code",
   "execution_count": 61,
   "metadata": {},
   "outputs": [
    {
     "name": "stdout",
     "output_type": "stream",
     "text": [
      "92120\n"
     ]
    }
   ],
   "source": [
    "print(len(context_raw))"
   ]
  },
  {
   "cell_type": "markdown",
   "metadata": {},
   "source": [
    "# Predict"
   ]
  },
  {
   "cell_type": "code",
   "execution_count": 62,
   "metadata": {},
   "outputs": [],
   "source": [
    "inputs=[\n",
    "    'COUNTRY STRATEGY PAPERS MALAYSIUM , BRAZIL AND PAKISTAN VOTE',\n",
    "    'EC RUSSIUM DESC-SHORT STAY VISA AGREEMENT VOTE',\n",
    "    'EIB DESC-ANNUAL REPORT 2005 VOTE'\n",
    "]"
   ]
  },
  {
   "cell_type": "markdown",
   "metadata": {},
   "source": [
    "#### Groundtruth\n",
    "- country strategy papers malaysia , brazil and pakistan vote \n",
    "- ec russia short stay visa agreement vote \n",
    "- eib annual report 2005 vote "
   ]
  },
  {
   "cell_type": "code",
   "execution_count": 63,
   "metadata": {},
   "outputs": [
    {
     "name": "stderr",
     "output_type": "stream",
     "text": [
      "2023-01-06 03:42:17.070095: W tensorflow/core/grappler/costs/op_level_cost_estimator.cc:690] Error in PredictCost() for the op: op: \"Softmax\" attr { key: \"T\" value { type: DT_FLOAT } } inputs { dtype: DT_FLOAT shape { unknown_rank: true } } device { type: \"CPU\" vendor: \"GenuineIntel\" model: \"110\" frequency: 2000 num_cores: 8 environment { key: \"cpu_instruction_set\" value: \"SSE, SSE2, SSE3, SSSE3, SSE4.1, SSE4.2\" } environment { key: \"eigen\" value: \"3.4.90\" } l1_cache_size: 49152 l2_cache_size: 524288 l3_cache_size: 6291456 memory_size: 268435456 } outputs { dtype: DT_FLOAT shape { unknown_rank: true } }\n",
      "2023-01-06 03:42:17.071030: W tensorflow/core/grappler/costs/op_level_cost_estimator.cc:690] Error in PredictCost() for the op: op: \"Softmax\" attr { key: \"T\" value { type: DT_FLOAT } } inputs { dtype: DT_FLOAT shape { unknown_rank: true } } device { type: \"CPU\" vendor: \"GenuineIntel\" model: \"110\" frequency: 2000 num_cores: 8 environment { key: \"cpu_instruction_set\" value: \"SSE, SSE2, SSE3, SSSE3, SSE4.1, SSE4.2\" } environment { key: \"eigen\" value: \"3.4.90\" } l1_cache_size: 49152 l2_cache_size: 524288 l3_cache_size: 6291456 memory_size: 268435456 } outputs { dtype: DT_FLOAT shape { unknown_rank: true } }\n",
      "2023-01-06 03:42:17.071838: W tensorflow/core/grappler/costs/op_level_cost_estimator.cc:690] Error in PredictCost() for the op: op: \"Softmax\" attr { key: \"T\" value { type: DT_FLOAT } } inputs { dtype: DT_FLOAT shape { unknown_rank: true } } device { type: \"CPU\" vendor: \"GenuineIntel\" model: \"110\" frequency: 2000 num_cores: 8 environment { key: \"cpu_instruction_set\" value: \"SSE, SSE2, SSE3, SSSE3, SSE4.1, SSE4.2\" } environment { key: \"eigen\" value: \"3.4.90\" } l1_cache_size: 49152 l2_cache_size: 524288 l3_cache_size: 6291456 memory_size: 268435456 } outputs { dtype: DT_FLOAT shape { unknown_rank: true } }\n",
      "2023-01-06 03:42:17.072617: W tensorflow/core/grappler/costs/op_level_cost_estimator.cc:690] Error in PredictCost() for the op: op: \"Softmax\" attr { key: \"T\" value { type: DT_FLOAT } } inputs { dtype: DT_FLOAT shape { unknown_rank: true } } device { type: \"CPU\" vendor: \"GenuineIntel\" model: \"110\" frequency: 2000 num_cores: 8 environment { key: \"cpu_instruction_set\" value: \"SSE, SSE2, SSE3, SSSE3, SSE4.1, SSE4.2\" } environment { key: \"eigen\" value: \"3.4.90\" } l1_cache_size: 49152 l2_cache_size: 524288 l3_cache_size: 6291456 memory_size: 268435456 } outputs { dtype: DT_FLOAT shape { unknown_rank: true } }\n",
      "2023-01-06 03:42:17.073355: W tensorflow/core/grappler/costs/op_level_cost_estimator.cc:690] Error in PredictCost() for the op: op: \"Softmax\" attr { key: \"T\" value { type: DT_FLOAT } } inputs { dtype: DT_FLOAT shape { unknown_rank: true } } device { type: \"CPU\" vendor: \"GenuineIntel\" model: \"110\" frequency: 2000 num_cores: 8 environment { key: \"cpu_instruction_set\" value: \"SSE, SSE2, SSE3, SSSE3, SSE4.1, SSE4.2\" } environment { key: \"eigen\" value: \"3.4.90\" } l1_cache_size: 49152 l2_cache_size: 524288 l3_cache_size: 6291456 memory_size: 268435456 } outputs { dtype: DT_FLOAT shape { unknown_rank: true } }\n",
      "2023-01-06 03:42:17.074119: W tensorflow/core/grappler/costs/op_level_cost_estimator.cc:690] Error in PredictCost() for the op: op: \"Softmax\" attr { key: \"T\" value { type: DT_FLOAT } } inputs { dtype: DT_FLOAT shape { unknown_rank: true } } device { type: \"CPU\" vendor: \"GenuineIntel\" model: \"110\" frequency: 2000 num_cores: 8 environment { key: \"cpu_instruction_set\" value: \"SSE, SSE2, SSE3, SSSE3, SSE4.1, SSE4.2\" } environment { key: \"eigen\" value: \"3.4.90\" } l1_cache_size: 49152 l2_cache_size: 524288 l3_cache_size: 6291456 memory_size: 268435456 } outputs { dtype: DT_FLOAT shape { unknown_rank: true } }\n",
      "2023-01-06 03:42:17.074966: W tensorflow/core/grappler/costs/op_level_cost_estimator.cc:690] Error in PredictCost() for the op: op: \"Softmax\" attr { key: \"T\" value { type: DT_FLOAT } } inputs { dtype: DT_FLOAT shape { unknown_rank: true } } device { type: \"CPU\" vendor: \"GenuineIntel\" model: \"110\" frequency: 2000 num_cores: 8 environment { key: \"cpu_instruction_set\" value: \"SSE, SSE2, SSE3, SSSE3, SSE4.1, SSE4.2\" } environment { key: \"eigen\" value: \"3.4.90\" } l1_cache_size: 49152 l2_cache_size: 524288 l3_cache_size: 6291456 memory_size: 268435456 } outputs { dtype: DT_FLOAT shape { unknown_rank: true } }\n",
      "2023-01-06 03:42:17.075838: W tensorflow/core/grappler/costs/op_level_cost_estimator.cc:690] Error in PredictCost() for the op: op: \"Softmax\" attr { key: \"T\" value { type: DT_FLOAT } } inputs { dtype: DT_FLOAT shape { unknown_rank: true } } device { type: \"CPU\" vendor: \"GenuineIntel\" model: \"110\" frequency: 2000 num_cores: 8 environment { key: \"cpu_instruction_set\" value: \"SSE, SSE2, SSE3, SSSE3, SSE4.1, SSE4.2\" } environment { key: \"eigen\" value: \"3.4.90\" } l1_cache_size: 49152 l2_cache_size: 524288 l3_cache_size: 6291456 memory_size: 268435456 } outputs { dtype: DT_FLOAT shape { unknown_rank: true } }\n",
      "2023-01-06 03:42:17.077046: W tensorflow/core/grappler/costs/op_level_cost_estimator.cc:690] Error in PredictCost() for the op: op: \"Softmax\" attr { key: \"T\" value { type: DT_FLOAT } } inputs { dtype: DT_FLOAT shape { unknown_rank: true } } device { type: \"CPU\" vendor: \"GenuineIntel\" model: \"110\" frequency: 2000 num_cores: 8 environment { key: \"cpu_instruction_set\" value: \"SSE, SSE2, SSE3, SSSE3, SSE4.1, SSE4.2\" } environment { key: \"eigen\" value: \"3.4.90\" } l1_cache_size: 49152 l2_cache_size: 524288 l3_cache_size: 6291456 memory_size: 268435456 } outputs { dtype: DT_FLOAT shape { unknown_rank: true } }\n",
      "2023-01-06 03:42:17.078344: W tensorflow/core/grappler/costs/op_level_cost_estimator.cc:690] Error in PredictCost() for the op: op: \"Softmax\" attr { key: \"T\" value { type: DT_FLOAT } } inputs { dtype: DT_FLOAT shape { unknown_rank: true } } device { type: \"CPU\" vendor: \"GenuineIntel\" model: \"110\" frequency: 2000 num_cores: 8 environment { key: \"cpu_instruction_set\" value: \"SSE, SSE2, SSE3, SSSE3, SSE4.1, SSE4.2\" } environment { key: \"eigen\" value: \"3.4.90\" } l1_cache_size: 49152 l2_cache_size: 524288 l3_cache_size: 6291456 memory_size: 268435456 } outputs { dtype: DT_FLOAT shape { unknown_rank: true } }\n",
      "2023-01-06 03:42:17.079298: W tensorflow/core/grappler/costs/op_level_cost_estimator.cc:690] Error in PredictCost() for the op: op: \"Softmax\" attr { key: \"T\" value { type: DT_FLOAT } } inputs { dtype: DT_FLOAT shape { unknown_rank: true } } device { type: \"CPU\" vendor: \"GenuineIntel\" model: \"110\" frequency: 2000 num_cores: 8 environment { key: \"cpu_instruction_set\" value: \"SSE, SSE2, SSE3, SSSE3, SSE4.1, SSE4.2\" } environment { key: \"eigen\" value: \"3.4.90\" } l1_cache_size: 49152 l2_cache_size: 524288 l3_cache_size: 6291456 memory_size: 268435456 } outputs { dtype: DT_FLOAT shape { unknown_rank: true } }\n",
      "2023-01-06 03:42:17.080061: W tensorflow/core/grappler/costs/op_level_cost_estimator.cc:690] Error in PredictCost() for the op: op: \"Softmax\" attr { key: \"T\" value { type: DT_FLOAT } } inputs { dtype: DT_FLOAT shape { unknown_rank: true } } device { type: \"CPU\" vendor: \"GenuineIntel\" model: \"110\" frequency: 2000 num_cores: 8 environment { key: \"cpu_instruction_set\" value: \"SSE, SSE2, SSE3, SSSE3, SSE4.1, SSE4.2\" } environment { key: \"eigen\" value: \"3.4.90\" } l1_cache_size: 49152 l2_cache_size: 524288 l3_cache_size: 6291456 memory_size: 268435456 } outputs { dtype: DT_FLOAT shape { unknown_rank: true } }\n",
      "2023-01-06 03:42:17.081215: W tensorflow/core/grappler/costs/op_level_cost_estimator.cc:690] Error in PredictCost() for the op: op: \"Softmax\" attr { key: \"T\" value { type: DT_FLOAT } } inputs { dtype: DT_FLOAT shape { unknown_rank: true } } device { type: \"CPU\" vendor: \"GenuineIntel\" model: \"110\" frequency: 2000 num_cores: 8 environment { key: \"cpu_instruction_set\" value: \"SSE, SSE2, SSE3, SSSE3, SSE4.1, SSE4.2\" } environment { key: \"eigen\" value: \"3.4.90\" } l1_cache_size: 49152 l2_cache_size: 524288 l3_cache_size: 6291456 memory_size: 268435456 } outputs { dtype: DT_FLOAT shape { unknown_rank: true } }\n",
      "2023-01-06 03:42:17.081934: W tensorflow/core/grappler/costs/op_level_cost_estimator.cc:690] Error in PredictCost() for the op: op: \"Softmax\" attr { key: \"T\" value { type: DT_FLOAT } } inputs { dtype: DT_FLOAT shape { unknown_rank: true } } device { type: \"CPU\" vendor: \"GenuineIntel\" model: \"110\" frequency: 2000 num_cores: 8 environment { key: \"cpu_instruction_set\" value: \"SSE, SSE2, SSE3, SSSE3, SSE4.1, SSE4.2\" } environment { key: \"eigen\" value: \"3.4.90\" } l1_cache_size: 49152 l2_cache_size: 524288 l3_cache_size: 6291456 memory_size: 268435456 } outputs { dtype: DT_FLOAT shape { unknown_rank: true } }\n",
      "2023-01-06 03:42:17.082660: W tensorflow/core/grappler/costs/op_level_cost_estimator.cc:690] Error in PredictCost() for the op: op: \"Softmax\" attr { key: \"T\" value { type: DT_FLOAT } } inputs { dtype: DT_FLOAT shape { unknown_rank: true } } device { type: \"CPU\" vendor: \"GenuineIntel\" model: \"110\" frequency: 2000 num_cores: 8 environment { key: \"cpu_instruction_set\" value: \"SSE, SSE2, SSE3, SSSE3, SSE4.1, SSE4.2\" } environment { key: \"eigen\" value: \"3.4.90\" } l1_cache_size: 49152 l2_cache_size: 524288 l3_cache_size: 6291456 memory_size: 268435456 } outputs { dtype: DT_FLOAT shape { unknown_rank: true } }\n",
      "2023-01-06 03:42:17.083405: W tensorflow/core/grappler/costs/op_level_cost_estimator.cc:690] Error in PredictCost() for the op: op: \"Softmax\" attr { key: \"T\" value { type: DT_FLOAT } } inputs { dtype: DT_FLOAT shape { unknown_rank: true } } device { type: \"CPU\" vendor: \"GenuineIntel\" model: \"110\" frequency: 2000 num_cores: 8 environment { key: \"cpu_instruction_set\" value: \"SSE, SSE2, SSE3, SSSE3, SSE4.1, SSE4.2\" } environment { key: \"eigen\" value: \"3.4.90\" } l1_cache_size: 49152 l2_cache_size: 524288 l3_cache_size: 6291456 memory_size: 268435456 } outputs { dtype: DT_FLOAT shape { unknown_rank: true } }\n",
      "2023-01-06 03:42:17.084433: W tensorflow/core/grappler/costs/op_level_cost_estimator.cc:690] Error in PredictCost() for the op: op: \"Softmax\" attr { key: \"T\" value { type: DT_FLOAT } } inputs { dtype: DT_FLOAT shape { unknown_rank: true } } device { type: \"CPU\" vendor: \"GenuineIntel\" model: \"110\" frequency: 2000 num_cores: 8 environment { key: \"cpu_instruction_set\" value: \"SSE, SSE2, SSE3, SSSE3, SSE4.1, SSE4.2\" } environment { key: \"eigen\" value: \"3.4.90\" } l1_cache_size: 49152 l2_cache_size: 524288 l3_cache_size: 6291456 memory_size: 268435456 } outputs { dtype: DT_FLOAT shape { unknown_rank: true } }\n",
      "2023-01-06 03:42:17.085363: W tensorflow/core/grappler/costs/op_level_cost_estimator.cc:690] Error in PredictCost() for the op: op: \"Softmax\" attr { key: \"T\" value { type: DT_FLOAT } } inputs { dtype: DT_FLOAT shape { unknown_rank: true } } device { type: \"CPU\" vendor: \"GenuineIntel\" model: \"110\" frequency: 2000 num_cores: 8 environment { key: \"cpu_instruction_set\" value: \"SSE, SSE2, SSE3, SSSE3, SSE4.1, SSE4.2\" } environment { key: \"eigen\" value: \"3.4.90\" } l1_cache_size: 49152 l2_cache_size: 524288 l3_cache_size: 6291456 memory_size: 268435456 } outputs { dtype: DT_FLOAT shape { unknown_rank: true } }\n",
      "2023-01-06 03:42:17.086193: W tensorflow/core/grappler/costs/op_level_cost_estimator.cc:690] Error in PredictCost() for the op: op: \"Softmax\" attr { key: \"T\" value { type: DT_FLOAT } } inputs { dtype: DT_FLOAT shape { unknown_rank: true } } device { type: \"CPU\" vendor: \"GenuineIntel\" model: \"110\" frequency: 2000 num_cores: 8 environment { key: \"cpu_instruction_set\" value: \"SSE, SSE2, SSE3, SSSE3, SSE4.1, SSE4.2\" } environment { key: \"eigen\" value: \"3.4.90\" } l1_cache_size: 49152 l2_cache_size: 524288 l3_cache_size: 6291456 memory_size: 268435456 } outputs { dtype: DT_FLOAT shape { unknown_rank: true } }\n",
      "2023-01-06 03:42:17.087115: W tensorflow/core/grappler/costs/op_level_cost_estimator.cc:690] Error in PredictCost() for the op: op: \"Softmax\" attr { key: \"T\" value { type: DT_FLOAT } } inputs { dtype: DT_FLOAT shape { unknown_rank: true } } device { type: \"CPU\" vendor: \"GenuineIntel\" model: \"110\" frequency: 2000 num_cores: 8 environment { key: \"cpu_instruction_set\" value: \"SSE, SSE2, SSE3, SSSE3, SSE4.1, SSE4.2\" } environment { key: \"eigen\" value: \"3.4.90\" } l1_cache_size: 49152 l2_cache_size: 524288 l3_cache_size: 6291456 memory_size: 268435456 } outputs { dtype: DT_FLOAT shape { unknown_rank: true } }\n",
      "2023-01-06 03:42:17.087888: W tensorflow/core/grappler/costs/op_level_cost_estimator.cc:690] Error in PredictCost() for the op: op: \"Softmax\" attr { key: \"T\" value { type: DT_FLOAT } } inputs { dtype: DT_FLOAT shape { unknown_rank: true } } device { type: \"CPU\" vendor: \"GenuineIntel\" model: \"110\" frequency: 2000 num_cores: 8 environment { key: \"cpu_instruction_set\" value: \"SSE, SSE2, SSE3, SSSE3, SSE4.1, SSE4.2\" } environment { key: \"eigen\" value: \"3.4.90\" } l1_cache_size: 49152 l2_cache_size: 524288 l3_cache_size: 6291456 memory_size: 268435456 } outputs { dtype: DT_FLOAT shape { unknown_rank: true } }\n",
      "2023-01-06 03:42:17.088728: W tensorflow/core/grappler/costs/op_level_cost_estimator.cc:690] Error in PredictCost() for the op: op: \"Softmax\" attr { key: \"T\" value { type: DT_FLOAT } } inputs { dtype: DT_FLOAT shape { unknown_rank: true } } device { type: \"CPU\" vendor: \"GenuineIntel\" model: \"110\" frequency: 2000 num_cores: 8 environment { key: \"cpu_instruction_set\" value: \"SSE, SSE2, SSE3, SSSE3, SSE4.1, SSE4.2\" } environment { key: \"eigen\" value: \"3.4.90\" } l1_cache_size: 49152 l2_cache_size: 524288 l3_cache_size: 6291456 memory_size: 268435456 } outputs { dtype: DT_FLOAT shape { unknown_rank: true } }\n",
      "2023-01-06 03:42:17.089506: W tensorflow/core/grappler/costs/op_level_cost_estimator.cc:690] Error in PredictCost() for the op: op: \"Softmax\" attr { key: \"T\" value { type: DT_FLOAT } } inputs { dtype: DT_FLOAT shape { unknown_rank: true } } device { type: \"CPU\" vendor: \"GenuineIntel\" model: \"110\" frequency: 2000 num_cores: 8 environment { key: \"cpu_instruction_set\" value: \"SSE, SSE2, SSE3, SSSE3, SSE4.1, SSE4.2\" } environment { key: \"eigen\" value: \"3.4.90\" } l1_cache_size: 49152 l2_cache_size: 524288 l3_cache_size: 6291456 memory_size: 268435456 } outputs { dtype: DT_FLOAT shape { unknown_rank: true } }\n",
      "2023-01-06 03:42:17.090240: W tensorflow/core/grappler/costs/op_level_cost_estimator.cc:690] Error in PredictCost() for the op: op: \"Softmax\" attr { key: \"T\" value { type: DT_FLOAT } } inputs { dtype: DT_FLOAT shape { unknown_rank: true } } device { type: \"CPU\" vendor: \"GenuineIntel\" model: \"110\" frequency: 2000 num_cores: 8 environment { key: \"cpu_instruction_set\" value: \"SSE, SSE2, SSE3, SSSE3, SSE4.1, SSE4.2\" } environment { key: \"eigen\" value: \"3.4.90\" } l1_cache_size: 49152 l2_cache_size: 524288 l3_cache_size: 6291456 memory_size: 268435456 } outputs { dtype: DT_FLOAT shape { unknown_rank: true } }\n",
      "2023-01-06 03:42:17.091152: W tensorflow/core/grappler/costs/op_level_cost_estimator.cc:690] Error in PredictCost() for the op: op: \"Softmax\" attr { key: \"T\" value { type: DT_FLOAT } } inputs { dtype: DT_FLOAT shape { unknown_rank: true } } device { type: \"CPU\" vendor: \"GenuineIntel\" model: \"110\" frequency: 2000 num_cores: 8 environment { key: \"cpu_instruction_set\" value: \"SSE, SSE2, SSE3, SSSE3, SSE4.1, SSE4.2\" } environment { key: \"eigen\" value: \"3.4.90\" } l1_cache_size: 49152 l2_cache_size: 524288 l3_cache_size: 6291456 memory_size: 268435456 } outputs { dtype: DT_FLOAT shape { unknown_rank: true } }\n",
      "2023-01-06 03:42:17.092344: W tensorflow/core/grappler/costs/op_level_cost_estimator.cc:690] Error in PredictCost() for the op: op: \"Softmax\" attr { key: \"T\" value { type: DT_FLOAT } } inputs { dtype: DT_FLOAT shape { unknown_rank: true } } device { type: \"CPU\" vendor: \"GenuineIntel\" model: \"110\" frequency: 2000 num_cores: 8 environment { key: \"cpu_instruction_set\" value: \"SSE, SSE2, SSE3, SSSE3, SSE4.1, SSE4.2\" } environment { key: \"eigen\" value: \"3.4.90\" } l1_cache_size: 49152 l2_cache_size: 524288 l3_cache_size: 6291456 memory_size: 268435456 } outputs { dtype: DT_FLOAT shape { unknown_rank: true } }\n",
      "2023-01-06 03:42:17.093408: W tensorflow/core/grappler/costs/op_level_cost_estimator.cc:690] Error in PredictCost() for the op: op: \"Softmax\" attr { key: \"T\" value { type: DT_FLOAT } } inputs { dtype: DT_FLOAT shape { unknown_rank: true } } device { type: \"CPU\" vendor: \"GenuineIntel\" model: \"110\" frequency: 2000 num_cores: 8 environment { key: \"cpu_instruction_set\" value: \"SSE, SSE2, SSE3, SSSE3, SSE4.1, SSE4.2\" } environment { key: \"eigen\" value: \"3.4.90\" } l1_cache_size: 49152 l2_cache_size: 524288 l3_cache_size: 6291456 memory_size: 268435456 } outputs { dtype: DT_FLOAT shape { unknown_rank: true } }\n",
      "2023-01-06 03:42:17.094660: W tensorflow/core/grappler/costs/op_level_cost_estimator.cc:690] Error in PredictCost() for the op: op: \"Softmax\" attr { key: \"T\" value { type: DT_FLOAT } } inputs { dtype: DT_FLOAT shape { unknown_rank: true } } device { type: \"CPU\" vendor: \"GenuineIntel\" model: \"110\" frequency: 2000 num_cores: 8 environment { key: \"cpu_instruction_set\" value: \"SSE, SSE2, SSE3, SSSE3, SSE4.1, SSE4.2\" } environment { key: \"eigen\" value: \"3.4.90\" } l1_cache_size: 49152 l2_cache_size: 524288 l3_cache_size: 6291456 memory_size: 268435456 } outputs { dtype: DT_FLOAT shape { unknown_rank: true } }\n",
      "2023-01-06 03:42:17.095686: W tensorflow/core/grappler/costs/op_level_cost_estimator.cc:690] Error in PredictCost() for the op: op: \"Softmax\" attr { key: \"T\" value { type: DT_FLOAT } } inputs { dtype: DT_FLOAT shape { unknown_rank: true } } device { type: \"CPU\" vendor: \"GenuineIntel\" model: \"110\" frequency: 2000 num_cores: 8 environment { key: \"cpu_instruction_set\" value: \"SSE, SSE2, SSE3, SSSE3, SSE4.1, SSE4.2\" } environment { key: \"eigen\" value: \"3.4.90\" } l1_cache_size: 49152 l2_cache_size: 524288 l3_cache_size: 6291456 memory_size: 268435456 } outputs { dtype: DT_FLOAT shape { unknown_rank: true } }\n",
      "2023-01-06 03:42:17.096642: W tensorflow/core/grappler/costs/op_level_cost_estimator.cc:690] Error in PredictCost() for the op: op: \"Softmax\" attr { key: \"T\" value { type: DT_FLOAT } } inputs { dtype: DT_FLOAT shape { unknown_rank: true } } device { type: \"CPU\" vendor: \"GenuineIntel\" model: \"110\" frequency: 2000 num_cores: 8 environment { key: \"cpu_instruction_set\" value: \"SSE, SSE2, SSE3, SSSE3, SSE4.1, SSE4.2\" } environment { key: \"eigen\" value: \"3.4.90\" } l1_cache_size: 49152 l2_cache_size: 524288 l3_cache_size: 6291456 memory_size: 268435456 } outputs { dtype: DT_FLOAT shape { unknown_rank: true } }\n",
      "2023-01-06 03:42:17.097544: W tensorflow/core/grappler/costs/op_level_cost_estimator.cc:690] Error in PredictCost() for the op: op: \"Softmax\" attr { key: \"T\" value { type: DT_FLOAT } } inputs { dtype: DT_FLOAT shape { unknown_rank: true } } device { type: \"CPU\" vendor: \"GenuineIntel\" model: \"110\" frequency: 2000 num_cores: 8 environment { key: \"cpu_instruction_set\" value: \"SSE, SSE2, SSE3, SSSE3, SSE4.1, SSE4.2\" } environment { key: \"eigen\" value: \"3.4.90\" } l1_cache_size: 49152 l2_cache_size: 524288 l3_cache_size: 6291456 memory_size: 268435456 } outputs { dtype: DT_FLOAT shape { unknown_rank: true } }\n",
      "2023-01-06 03:42:17.098283: W tensorflow/core/grappler/costs/op_level_cost_estimator.cc:690] Error in PredictCost() for the op: op: \"Softmax\" attr { key: \"T\" value { type: DT_FLOAT } } inputs { dtype: DT_FLOAT shape { unknown_rank: true } } device { type: \"CPU\" vendor: \"GenuineIntel\" model: \"110\" frequency: 2000 num_cores: 8 environment { key: \"cpu_instruction_set\" value: \"SSE, SSE2, SSE3, SSSE3, SSE4.1, SSE4.2\" } environment { key: \"eigen\" value: \"3.4.90\" } l1_cache_size: 49152 l2_cache_size: 524288 l3_cache_size: 6291456 memory_size: 268435456 } outputs { dtype: DT_FLOAT shape { unknown_rank: true } }\n",
      "2023-01-06 03:42:17.099028: W tensorflow/core/grappler/costs/op_level_cost_estimator.cc:690] Error in PredictCost() for the op: op: \"Softmax\" attr { key: \"T\" value { type: DT_FLOAT } } inputs { dtype: DT_FLOAT shape { unknown_rank: true } } device { type: \"CPU\" vendor: \"GenuineIntel\" model: \"110\" frequency: 2000 num_cores: 8 environment { key: \"cpu_instruction_set\" value: \"SSE, SSE2, SSE3, SSSE3, SSE4.1, SSE4.2\" } environment { key: \"eigen\" value: \"3.4.90\" } l1_cache_size: 49152 l2_cache_size: 524288 l3_cache_size: 6291456 memory_size: 268435456 } outputs { dtype: DT_FLOAT shape { unknown_rank: true } }\n",
      "2023-01-06 03:42:17.099773: W tensorflow/core/grappler/costs/op_level_cost_estimator.cc:690] Error in PredictCost() for the op: op: \"Softmax\" attr { key: \"T\" value { type: DT_FLOAT } } inputs { dtype: DT_FLOAT shape { unknown_rank: true } } device { type: \"CPU\" vendor: \"GenuineIntel\" model: \"110\" frequency: 2000 num_cores: 8 environment { key: \"cpu_instruction_set\" value: \"SSE, SSE2, SSE3, SSSE3, SSE4.1, SSE4.2\" } environment { key: \"eigen\" value: \"3.4.90\" } l1_cache_size: 49152 l2_cache_size: 524288 l3_cache_size: 6291456 memory_size: 268435456 } outputs { dtype: DT_FLOAT shape { unknown_rank: true } }\n",
      "2023-01-06 03:42:17.100526: W tensorflow/core/grappler/costs/op_level_cost_estimator.cc:690] Error in PredictCost() for the op: op: \"Softmax\" attr { key: \"T\" value { type: DT_FLOAT } } inputs { dtype: DT_FLOAT shape { unknown_rank: true } } device { type: \"CPU\" vendor: \"GenuineIntel\" model: \"110\" frequency: 2000 num_cores: 8 environment { key: \"cpu_instruction_set\" value: \"SSE, SSE2, SSE3, SSSE3, SSE4.1, SSE4.2\" } environment { key: \"eigen\" value: \"3.4.90\" } l1_cache_size: 49152 l2_cache_size: 524288 l3_cache_size: 6291456 memory_size: 268435456 } outputs { dtype: DT_FLOAT shape { unknown_rank: true } }\n",
      "2023-01-06 03:42:17.101265: W tensorflow/core/grappler/costs/op_level_cost_estimator.cc:690] Error in PredictCost() for the op: op: \"Softmax\" attr { key: \"T\" value { type: DT_FLOAT } } inputs { dtype: DT_FLOAT shape { unknown_rank: true } } device { type: \"CPU\" vendor: \"GenuineIntel\" model: \"110\" frequency: 2000 num_cores: 8 environment { key: \"cpu_instruction_set\" value: \"SSE, SSE2, SSE3, SSSE3, SSE4.1, SSE4.2\" } environment { key: \"eigen\" value: \"3.4.90\" } l1_cache_size: 49152 l2_cache_size: 524288 l3_cache_size: 6291456 memory_size: 268435456 } outputs { dtype: DT_FLOAT shape { unknown_rank: true } }\n",
      "2023-01-06 03:42:17.102031: W tensorflow/core/grappler/costs/op_level_cost_estimator.cc:690] Error in PredictCost() for the op: op: \"Softmax\" attr { key: \"T\" value { type: DT_FLOAT } } inputs { dtype: DT_FLOAT shape { unknown_rank: true } } device { type: \"CPU\" vendor: \"GenuineIntel\" model: \"110\" frequency: 2000 num_cores: 8 environment { key: \"cpu_instruction_set\" value: \"SSE, SSE2, SSE3, SSSE3, SSE4.1, SSE4.2\" } environment { key: \"eigen\" value: \"3.4.90\" } l1_cache_size: 49152 l2_cache_size: 524288 l3_cache_size: 6291456 memory_size: 268435456 } outputs { dtype: DT_FLOAT shape { unknown_rank: true } }\n",
      "2023-01-06 03:42:17.102776: W tensorflow/core/grappler/costs/op_level_cost_estimator.cc:690] Error in PredictCost() for the op: op: \"Softmax\" attr { key: \"T\" value { type: DT_FLOAT } } inputs { dtype: DT_FLOAT shape { unknown_rank: true } } device { type: \"CPU\" vendor: \"GenuineIntel\" model: \"110\" frequency: 2000 num_cores: 8 environment { key: \"cpu_instruction_set\" value: \"SSE, SSE2, SSE3, SSSE3, SSE4.1, SSE4.2\" } environment { key: \"eigen\" value: \"3.4.90\" } l1_cache_size: 49152 l2_cache_size: 524288 l3_cache_size: 6291456 memory_size: 268435456 } outputs { dtype: DT_FLOAT shape { unknown_rank: true } }\n",
      "2023-01-06 03:42:17.103520: W tensorflow/core/grappler/costs/op_level_cost_estimator.cc:690] Error in PredictCost() for the op: op: \"Softmax\" attr { key: \"T\" value { type: DT_FLOAT } } inputs { dtype: DT_FLOAT shape { unknown_rank: true } } device { type: \"CPU\" vendor: \"GenuineIntel\" model: \"110\" frequency: 2000 num_cores: 8 environment { key: \"cpu_instruction_set\" value: \"SSE, SSE2, SSE3, SSSE3, SSE4.1, SSE4.2\" } environment { key: \"eigen\" value: \"3.4.90\" } l1_cache_size: 49152 l2_cache_size: 524288 l3_cache_size: 6291456 memory_size: 268435456 } outputs { dtype: DT_FLOAT shape { unknown_rank: true } }\n",
      "2023-01-06 03:42:17.104337: W tensorflow/core/grappler/costs/op_level_cost_estimator.cc:690] Error in PredictCost() for the op: op: \"Softmax\" attr { key: \"T\" value { type: DT_FLOAT } } inputs { dtype: DT_FLOAT shape { unknown_rank: true } } device { type: \"CPU\" vendor: \"GenuineIntel\" model: \"110\" frequency: 2000 num_cores: 8 environment { key: \"cpu_instruction_set\" value: \"SSE, SSE2, SSE3, SSSE3, SSE4.1, SSE4.2\" } environment { key: \"eigen\" value: \"3.4.90\" } l1_cache_size: 49152 l2_cache_size: 524288 l3_cache_size: 6291456 memory_size: 268435456 } outputs { dtype: DT_FLOAT shape { unknown_rank: true } }\n",
      "2023-01-06 03:42:17.105283: W tensorflow/core/grappler/costs/op_level_cost_estimator.cc:690] Error in PredictCost() for the op: op: \"Softmax\" attr { key: \"T\" value { type: DT_FLOAT } } inputs { dtype: DT_FLOAT shape { unknown_rank: true } } device { type: \"CPU\" vendor: \"GenuineIntel\" model: \"110\" frequency: 2000 num_cores: 8 environment { key: \"cpu_instruction_set\" value: \"SSE, SSE2, SSE3, SSSE3, SSE4.1, SSE4.2\" } environment { key: \"eigen\" value: \"3.4.90\" } l1_cache_size: 49152 l2_cache_size: 524288 l3_cache_size: 6291456 memory_size: 268435456 } outputs { dtype: DT_FLOAT shape { unknown_rank: true } }\n",
      "2023-01-06 03:42:17.106057: W tensorflow/core/grappler/costs/op_level_cost_estimator.cc:690] Error in PredictCost() for the op: op: \"Softmax\" attr { key: \"T\" value { type: DT_FLOAT } } inputs { dtype: DT_FLOAT shape { unknown_rank: true } } device { type: \"CPU\" vendor: \"GenuineIntel\" model: \"110\" frequency: 2000 num_cores: 8 environment { key: \"cpu_instruction_set\" value: \"SSE, SSE2, SSE3, SSSE3, SSE4.1, SSE4.2\" } environment { key: \"eigen\" value: \"3.4.90\" } l1_cache_size: 49152 l2_cache_size: 524288 l3_cache_size: 6291456 memory_size: 268435456 } outputs { dtype: DT_FLOAT shape { unknown_rank: true } }\n",
      "2023-01-06 03:42:17.106793: W tensorflow/core/grappler/costs/op_level_cost_estimator.cc:690] Error in PredictCost() for the op: op: \"Softmax\" attr { key: \"T\" value { type: DT_FLOAT } } inputs { dtype: DT_FLOAT shape { unknown_rank: true } } device { type: \"CPU\" vendor: \"GenuineIntel\" model: \"110\" frequency: 2000 num_cores: 8 environment { key: \"cpu_instruction_set\" value: \"SSE, SSE2, SSE3, SSSE3, SSE4.1, SSE4.2\" } environment { key: \"eigen\" value: \"3.4.90\" } l1_cache_size: 49152 l2_cache_size: 524288 l3_cache_size: 6291456 memory_size: 268435456 } outputs { dtype: DT_FLOAT shape { unknown_rank: true } }\n",
      "2023-01-06 03:42:17.107600: W tensorflow/core/grappler/costs/op_level_cost_estimator.cc:690] Error in PredictCost() for the op: op: \"Softmax\" attr { key: \"T\" value { type: DT_FLOAT } } inputs { dtype: DT_FLOAT shape { unknown_rank: true } } device { type: \"CPU\" vendor: \"GenuineIntel\" model: \"110\" frequency: 2000 num_cores: 8 environment { key: \"cpu_instruction_set\" value: \"SSE, SSE2, SSE3, SSSE3, SSE4.1, SSE4.2\" } environment { key: \"eigen\" value: \"3.4.90\" } l1_cache_size: 49152 l2_cache_size: 524288 l3_cache_size: 6291456 memory_size: 268435456 } outputs { dtype: DT_FLOAT shape { unknown_rank: true } }\n",
      "2023-01-06 03:42:17.109300: W tensorflow/core/grappler/costs/op_level_cost_estimator.cc:690] Error in PredictCost() for the op: op: \"Softmax\" attr { key: \"T\" value { type: DT_FLOAT } } inputs { dtype: DT_FLOAT shape { unknown_rank: true } } device { type: \"CPU\" vendor: \"GenuineIntel\" model: \"110\" frequency: 2000 num_cores: 8 environment { key: \"cpu_instruction_set\" value: \"SSE, SSE2, SSE3, SSSE3, SSE4.1, SSE4.2\" } environment { key: \"eigen\" value: \"3.4.90\" } l1_cache_size: 49152 l2_cache_size: 524288 l3_cache_size: 6291456 memory_size: 268435456 } outputs { dtype: DT_FLOAT shape { unknown_rank: true } }\n",
      "2023-01-06 03:42:17.110747: W tensorflow/core/grappler/costs/op_level_cost_estimator.cc:690] Error in PredictCost() for the op: op: \"Softmax\" attr { key: \"T\" value { type: DT_FLOAT } } inputs { dtype: DT_FLOAT shape { unknown_rank: true } } device { type: \"CPU\" vendor: \"GenuineIntel\" model: \"110\" frequency: 2000 num_cores: 8 environment { key: \"cpu_instruction_set\" value: \"SSE, SSE2, SSE3, SSSE3, SSE4.1, SSE4.2\" } environment { key: \"eigen\" value: \"3.4.90\" } l1_cache_size: 49152 l2_cache_size: 524288 l3_cache_size: 6291456 memory_size: 268435456 } outputs { dtype: DT_FLOAT shape { unknown_rank: true } }\n",
      "2023-01-06 03:42:17.112688: W tensorflow/core/grappler/costs/op_level_cost_estimator.cc:690] Error in PredictCost() for the op: op: \"Softmax\" attr { key: \"T\" value { type: DT_FLOAT } } inputs { dtype: DT_FLOAT shape { unknown_rank: true } } device { type: \"CPU\" vendor: \"GenuineIntel\" model: \"110\" frequency: 2000 num_cores: 8 environment { key: \"cpu_instruction_set\" value: \"SSE, SSE2, SSE3, SSSE3, SSE4.1, SSE4.2\" } environment { key: \"eigen\" value: \"3.4.90\" } l1_cache_size: 49152 l2_cache_size: 524288 l3_cache_size: 6291456 memory_size: 268435456 } outputs { dtype: DT_FLOAT shape { unknown_rank: true } }\n",
      "2023-01-06 03:42:17.113519: W tensorflow/core/grappler/costs/op_level_cost_estimator.cc:690] Error in PredictCost() for the op: op: \"Softmax\" attr { key: \"T\" value { type: DT_FLOAT } } inputs { dtype: DT_FLOAT shape { unknown_rank: true } } device { type: \"CPU\" vendor: \"GenuineIntel\" model: \"110\" frequency: 2000 num_cores: 8 environment { key: \"cpu_instruction_set\" value: \"SSE, SSE2, SSE3, SSSE3, SSE4.1, SSE4.2\" } environment { key: \"eigen\" value: \"3.4.90\" } l1_cache_size: 49152 l2_cache_size: 524288 l3_cache_size: 6291456 memory_size: 268435456 } outputs { dtype: DT_FLOAT shape { unknown_rank: true } }\n",
      "2023-01-06 03:42:17.114466: W tensorflow/core/grappler/costs/op_level_cost_estimator.cc:690] Error in PredictCost() for the op: op: \"Softmax\" attr { key: \"T\" value { type: DT_FLOAT } } inputs { dtype: DT_FLOAT shape { unknown_rank: true } } device { type: \"CPU\" vendor: \"GenuineIntel\" model: \"110\" frequency: 2000 num_cores: 8 environment { key: \"cpu_instruction_set\" value: \"SSE, SSE2, SSE3, SSSE3, SSE4.1, SSE4.2\" } environment { key: \"eigen\" value: \"3.4.90\" } l1_cache_size: 49152 l2_cache_size: 524288 l3_cache_size: 6291456 memory_size: 268435456 } outputs { dtype: DT_FLOAT shape { unknown_rank: true } }\n",
      "2023-01-06 03:42:17.115233: W tensorflow/core/grappler/costs/op_level_cost_estimator.cc:690] Error in PredictCost() for the op: op: \"Softmax\" attr { key: \"T\" value { type: DT_FLOAT } } inputs { dtype: DT_FLOAT shape { unknown_rank: true } } device { type: \"CPU\" vendor: \"GenuineIntel\" model: \"110\" frequency: 2000 num_cores: 8 environment { key: \"cpu_instruction_set\" value: \"SSE, SSE2, SSE3, SSSE3, SSE4.1, SSE4.2\" } environment { key: \"eigen\" value: \"3.4.90\" } l1_cache_size: 49152 l2_cache_size: 524288 l3_cache_size: 6291456 memory_size: 268435456 } outputs { dtype: DT_FLOAT shape { unknown_rank: true } }\n"
     ]
    },
    {
     "name": "stdout",
     "output_type": "stream",
     "text": [
      "the country strategy papers [UNK] , brazil and pakistan vote                                        \n",
      "ec russia short stay visa agreement vote                                           \n",
      "the eib annual report vote                                             \n",
      "\n"
     ]
    }
   ],
   "source": [
    "result = export.translate(tf.constant(inputs))\n",
    "\n",
    "print(result[0].numpy().decode())\n",
    "print(result[1].numpy().decode())\n",
    "print(result[2].numpy().decode())\n",
    "print()"
   ]
  }
 ],
 "metadata": {
  "accelerator": "GPU",
  "colab": {
   "collapsed_sections": [],
   "last_runtime": {
    "build_target": "//learning/deepmind/public/tools/ml_python:ml_notebook",
    "kind": "private"
   },
   "name": "nmt_with_attention.ipynb",
   "private_outputs": true,
   "provenance": []
  },
  "kernelspec": {
   "display_name": "Python 3 (ipykernel)",
   "language": "python",
   "name": "python3"
  },
  "language_info": {
   "codemirror_mode": {
    "name": "ipython",
    "version": 3
   },
   "file_extension": ".py",
   "mimetype": "text/x-python",
   "name": "python",
   "nbconvert_exporter": "python",
   "pygments_lexer": "ipython3",
   "version": "3.8.11"
  }
 },
 "nbformat": 4,
 "nbformat_minor": 1
}
